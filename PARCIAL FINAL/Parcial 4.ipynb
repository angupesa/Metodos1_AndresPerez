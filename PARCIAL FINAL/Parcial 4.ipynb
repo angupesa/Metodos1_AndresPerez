{
 "cells": [
  {
   "cell_type": "code",
   "execution_count": 1,
   "metadata": {},
   "outputs": [],
   "source": [
    "#%matplotlib notebook\n",
    "import numpy as np\n",
    "import matplotlib.pyplot as plt\n",
    "from scipy.optimize import curve_fit as opt\n",
    "from scipy.optimize import minimize\n",
    "import pandas as pd\n",
    "import os.path as path\n",
    "import os\n",
    "import wget\n",
    "from tqdm import tqdm"
   ]
  },
  {
   "cell_type": "markdown",
   "metadata": {},
   "source": [
    "<h1>PARTE 1"
   ]
  },
  {
   "cell_type": "code",
   "execution_count": 2,
   "metadata": {},
   "outputs": [],
   "source": [
    "if not path.exists('Data'):\n",
    "    os.mkdir('Data')\n",
    "    \n",
    "file = 'Data/Interpolacion.dat'\n",
    "url=\"https://raw.githubusercontent.com/asegura4488/Database/main/MetodosComputacionalesReforma/DataRotacion.csv\"\n",
    "\n",
    "if not path.exists(file):\n",
    "    Path_ = wget.download(url,file)\n",
    "    \n",
    "else:\n",
    "    Path_ = file\n",
    "Data = pd.read_csv(Path_)"
   ]
  },
  {
   "cell_type": "code",
   "execution_count": 3,
   "metadata": {
    "scrolled": true
   },
   "outputs": [
    {
     "data": {
      "text/html": [
       "<div>\n",
       "<style scoped>\n",
       "    .dataframe tbody tr th:only-of-type {\n",
       "        vertical-align: middle;\n",
       "    }\n",
       "\n",
       "    .dataframe tbody tr th {\n",
       "        vertical-align: top;\n",
       "    }\n",
       "\n",
       "    .dataframe thead th {\n",
       "        text-align: right;\n",
       "    }\n",
       "</style>\n",
       "<table border=\"1\" class=\"dataframe\">\n",
       "  <thead>\n",
       "    <tr style=\"text-align: right;\">\n",
       "      <th></th>\n",
       "      <th>h</th>\n",
       "      <th>angle</th>\n",
       "      <th>y</th>\n",
       "      <th>sigmay</th>\n",
       "    </tr>\n",
       "  </thead>\n",
       "  <tbody>\n",
       "    <tr>\n",
       "      <th>20</th>\n",
       "      <td>10.0</td>\n",
       "      <td>30.0</td>\n",
       "      <td>0.0013</td>\n",
       "      <td>0.0015</td>\n",
       "    </tr>\n",
       "    <tr>\n",
       "      <th>21</th>\n",
       "      <td>20.0</td>\n",
       "      <td>30.0</td>\n",
       "      <td>0.0017</td>\n",
       "      <td>0.0015</td>\n",
       "    </tr>\n",
       "    <tr>\n",
       "      <th>22</th>\n",
       "      <td>30.0</td>\n",
       "      <td>30.0</td>\n",
       "      <td>0.0038</td>\n",
       "      <td>0.0015</td>\n",
       "    </tr>\n",
       "    <tr>\n",
       "      <th>23</th>\n",
       "      <td>40.0</td>\n",
       "      <td>30.0</td>\n",
       "      <td>0.0059</td>\n",
       "      <td>0.0015</td>\n",
       "    </tr>\n",
       "    <tr>\n",
       "      <th>24</th>\n",
       "      <td>50.0</td>\n",
       "      <td>30.0</td>\n",
       "      <td>0.0067</td>\n",
       "      <td>0.0015</td>\n",
       "    </tr>\n",
       "    <tr>\n",
       "      <th>25</th>\n",
       "      <td>60.0</td>\n",
       "      <td>30.0</td>\n",
       "      <td>0.0094</td>\n",
       "      <td>0.0015</td>\n",
       "    </tr>\n",
       "    <tr>\n",
       "      <th>26</th>\n",
       "      <td>70.0</td>\n",
       "      <td>30.0</td>\n",
       "      <td>0.0122</td>\n",
       "      <td>0.0015</td>\n",
       "    </tr>\n",
       "    <tr>\n",
       "      <th>27</th>\n",
       "      <td>80.0</td>\n",
       "      <td>30.0</td>\n",
       "      <td>0.0132</td>\n",
       "      <td>0.0015</td>\n",
       "    </tr>\n",
       "    <tr>\n",
       "      <th>28</th>\n",
       "      <td>90.0</td>\n",
       "      <td>30.0</td>\n",
       "      <td>0.0151</td>\n",
       "      <td>0.0015</td>\n",
       "    </tr>\n",
       "    <tr>\n",
       "      <th>29</th>\n",
       "      <td>100.0</td>\n",
       "      <td>30.0</td>\n",
       "      <td>0.0186</td>\n",
       "      <td>0.0015</td>\n",
       "    </tr>\n",
       "  </tbody>\n",
       "</table>\n",
       "</div>"
      ],
      "text/plain": [
       "        h  angle       y  sigmay\n",
       "20   10.0   30.0  0.0013  0.0015\n",
       "21   20.0   30.0  0.0017  0.0015\n",
       "22   30.0   30.0  0.0038  0.0015\n",
       "23   40.0   30.0  0.0059  0.0015\n",
       "24   50.0   30.0  0.0067  0.0015\n",
       "25   60.0   30.0  0.0094  0.0015\n",
       "26   70.0   30.0  0.0122  0.0015\n",
       "27   80.0   30.0  0.0132  0.0015\n",
       "28   90.0   30.0  0.0151  0.0015\n",
       "29  100.0   30.0  0.0186  0.0015"
      ]
     },
     "execution_count": 3,
     "metadata": {},
     "output_type": "execute_result"
    }
   ],
   "source": [
    "lamd30=Data[Data.angle == 30.0]\n",
    "lamd30"
   ]
  },
  {
   "cell_type": "code",
   "execution_count": 4,
   "metadata": {},
   "outputs": [],
   "source": [
    "def modelo(h,w=2*np.pi/(24*60*60)):\n",
    "    lamda=np.pi/180*30\n",
    "    g=9.81\n",
    "    a=2*np.sqrt(2)/3\n",
    "    y=a*w*np.cos(lamda)*np.sqrt(h**3/g)\n",
    "    return y"
   ]
  },
  {
   "cell_type": "code",
   "execution_count": 5,
   "metadata": {},
   "outputs": [],
   "source": [
    "r=lamd30.y - modelo(lamd30.h)\n",
    "chisq=sum((r/lamd30.sigmay)**2)"
   ]
  },
  {
   "cell_type": "code",
   "execution_count": 6,
   "metadata": {},
   "outputs": [],
   "source": [
    "param,inc2=opt(modelo,lamd30.h,lamd30.y,sigma=np.full_like(lamd30.h,chisq))"
   ]
  },
  {
   "cell_type": "code",
   "execution_count": 7,
   "metadata": {},
   "outputs": [
    {
     "name": "stdout",
     "output_type": "stream",
     "text": [
      "magnitud de w\n",
      "7.244743100545753e-05\n",
      "\n",
      "inc del w según el ajuste\n",
      "1.6693247983736118e-06\n"
     ]
    }
   ],
   "source": [
    "print(\"magnitud de w\")\n",
    "print(param[0])\n",
    "print(\"\")\n",
    "print(\"inc del w según el ajuste\")\n",
    "print(np.sqrt(inc2[0][0]))"
   ]
  },
  {
   "cell_type": "code",
   "execution_count": 8,
   "metadata": {},
   "outputs": [],
   "source": [
    "y=modelo(lamd30.h,param[0])"
   ]
  },
  {
   "cell_type": "code",
   "execution_count": 9,
   "metadata": {},
   "outputs": [
    {
     "data": {
      "text/plain": [
       "<matplotlib.legend.Legend at 0x18cedf38d60>"
      ]
     },
     "execution_count": 9,
     "metadata": {},
     "output_type": "execute_result"
    },
    {
     "data": {
      "image/png": "[encoded data removed]",
      "text/plain": [
       "<Figure size 432x288 with 1 Axes>"
      ]
     },
     "metadata": {
      "needs_background": "light"
     },
     "output_type": "display_data"
    }
   ],
   "source": [
    "plt.errorbar(lamd30.h,lamd30.y,yerr=lamd30.sigmay,fmt='ko',label=\"Datos experimentales\",capsize=3)\n",
    "plt.plot(lamd30.h,y,color='r',label=\"Regresión\")\n",
    "plt.ylabel(\"y[m]\")\n",
    "plt.xlabel(\"x[m]\")\n",
    "plt.title(\"Magnitud de momento angular para latidud de 30°\")\n",
    "plt.legend()"
   ]
  },
  {
   "cell_type": "markdown",
   "metadata": {},
   "source": [
    "<h1>PARTE 2"
   ]
  },
  {
   "cell_type": "code",
   "execution_count": 10,
   "metadata": {},
   "outputs": [],
   "source": [
    "N=300\n",
    "Gravedad=np.zeros(N)\n",
    "ys=np.zeros(N,dtype=object)"
   ]
  },
  {
   "cell_type": "code",
   "execution_count": 11,
   "metadata": {},
   "outputs": [],
   "source": [
    "for i in range(N):\n",
    "    Gravedad[i] =9.81+ np.random.normal(loc=1,scale=1)\n",
    "    y=lamd30.y+np.random.normal(loc=0,scale=np.array(lamd30.sigmay)[0],size=len(lamd30.y))\n",
    "    ys[i]=y"
   ]
  },
  {
   "cell_type": "code",
   "execution_count": 12,
   "metadata": {},
   "outputs": [],
   "source": [
    "x=lamd30.h"
   ]
  },
  {
   "cell_type": "code",
   "execution_count": 13,
   "metadata": {},
   "outputs": [],
   "source": [
    "class modelodepg:\n",
    "    def __init__(self,g,lamda):\n",
    "        self.g=g\n",
    "        self.lamda=lamda\n",
    "    \n",
    "    def modelo(self,h,w=2*np.pi/(24*60*60)):\n",
    "        lamda=np.pi/180*self.lamda\n",
    "        g=self.g\n",
    "        a=2*np.sqrt(2)/3\n",
    "        y=a*w*np.cos(lamda)*np.sqrt(h**3/g)\n",
    "        return y"
   ]
  },
  {
   "cell_type": "code",
   "execution_count": 14,
   "metadata": {},
   "outputs": [
    {
     "name": "stderr",
     "output_type": "stream",
     "text": [
      "100%|███████████████████████████████████████████████████████████████████████████████| 300/300 [00:02<00:00, 103.03it/s]\n"
     ]
    }
   ],
   "source": [
    "listparam=[]\n",
    "for i in tqdm(range(len(Gravedad))):\n",
    "    obj=modelodepg(Gravedad[i],lamd30.angle)\n",
    "    r=ys[i]-obj.modelo(x)\n",
    "    chisq=sum((r/lamd30.sigmay)**2)\n",
    "    param,inc2=opt(obj.modelo,x,ys[i],sigma=np.full_like(x,chisq))\n",
    "    listparam.append(param)\n",
    "listparam=np.array(listparam)"
   ]
  },
  {
   "cell_type": "code",
   "execution_count": 15,
   "metadata": {},
   "outputs": [],
   "source": [
    "Omega=listparam[:,0]"
   ]
  },
  {
   "cell_type": "code",
   "execution_count": 16,
   "metadata": {},
   "outputs": [],
   "source": [
    "H2,binsx,binsy = np.histogram2d(Omega,Gravedad,bins=(25,25))"
   ]
  },
  {
   "cell_type": "code",
   "execution_count": 17,
   "metadata": {
    "scrolled": true
   },
   "outputs": [
    {
     "data": {
      "image/png": "[encoded data removed]",
      "text/plain": [
       "<Figure size 432x288 with 1 Axes>"
      ]
     },
     "metadata": {
      "needs_background": "light"
     },
     "output_type": "display_data"
    }
   ],
   "source": [
    "_=plt.hist2d(Omega,Gravedad,bins=(binsx,binsy))"
   ]
  },
  {
   "cell_type": "markdown",
   "metadata": {},
   "source": [
    "Las variables parecen tener una correlación algo similar a una normal en la diagonal"
   ]
  },
  {
   "cell_type": "code",
   "execution_count": 18,
   "metadata": {},
   "outputs": [
    {
     "data": {
      "text/plain": [
       "<matplotlib.collections.PathCollection at 0x18cee7d0910>"
      ]
     },
     "execution_count": 18,
     "metadata": {},
     "output_type": "execute_result"
    },
    {
     "data": {
      "image/png": "[encoded data removed]",
      "text/plain": [
       "<Figure size 432x288 with 1 Axes>"
      ]
     },
     "metadata": {
      "needs_background": "light"
     },
     "output_type": "display_data"
    }
   ],
   "source": [
    "nbinsx=[]\n",
    "nbinsy=[]\n",
    "for i in range(len(binsx)-1):\n",
    "    nbinsx.append((binsx[i]+binsx[i+1])/2)\n",
    "    nbinsy.append((binsy[i]+binsy[i+1])/2)\n",
    "nbinsx=np.array(nbinsx)\n",
    "nbinsy=np.array(nbinsy)\n",
    "H1 = np.sum(H2,axis=1)\n",
    "x=np.linspace(min(nbinsx),max(nbinsx),len(nbinsx))\n",
    "plt.scatter(x,H1,color='k')"
   ]
  },
  {
   "cell_type": "code",
   "execution_count": 19,
   "metadata": {},
   "outputs": [],
   "source": [
    "cs = np.cumsum(H1)\n",
    "ij = np.searchsorted(cs,np.percentile(cs,16))\n",
    "ii = np.searchsorted(cs,np.percentile(cs,50))\n",
    "ji = np.searchsorted(cs,np.percentile(cs,84))"
   ]
  },
  {
   "cell_type": "code",
   "execution_count": 20,
   "metadata": {},
   "outputs": [
    {
     "data": {
      "text/plain": [
       "<matplotlib.collections.PathCollection at 0x18cee8afd00>"
      ]
     },
     "execution_count": 20,
     "metadata": {},
     "output_type": "execute_result"
    },
    {
     "data": {
      "image/png": "[encoded data removed]",
      "text/plain": [
       "<Figure size 432x288 with 1 Axes>"
      ]
     },
     "metadata": {
      "needs_background": "light"
     },
     "output_type": "display_data"
    }
   ],
   "source": [
    "x=np.linspace(0,100,len(cs))\n",
    "plt.scatter(x,cs,color='k')"
   ]
  },
  {
   "cell_type": "markdown",
   "metadata": {},
   "source": [
    "Efectivamente, parece una normal. Con media en el precentil 50 y varianza de calculable con las diferencias entre el percentil 16 y 84 dividido en 2"
   ]
  },
  {
   "cell_type": "code",
   "execution_count": 21,
   "metadata": {},
   "outputs": [],
   "source": [
    "mu=nbinsx[ii]\n",
    "sigma=(nbinsx[ji]-nbinsx[ij])/2"
   ]
  },
  {
   "cell_type": "code",
   "execution_count": 22,
   "metadata": {},
   "outputs": [
    {
     "name": "stdout",
     "output_type": "stream",
     "text": [
      "El w para lambda 30 es aproximadamente:\n",
      "7.550828589370569e-05\n",
      "El sigma para lambda 30 es aproximadamente:\n",
      "9.370938285112014e-06\n"
     ]
    }
   ],
   "source": [
    "print(\"El w para lambda 30 es aproximadamente:\")\n",
    "print(mu)\n",
    "print(\"El sigma para lambda 30 es aproximadamente:\")\n",
    "print(sigma)"
   ]
  },
  {
   "cell_type": "markdown",
   "metadata": {},
   "source": [
    "<h1>Parte 3"
   ]
  },
  {
   "cell_type": "code",
   "execution_count": 23,
   "metadata": {},
   "outputs": [],
   "source": [
    "a=[10.0,20.0,30.0,40.0,50.0,60.0]\n",
    "lambdas=[]\n",
    "for i in a:\n",
    "    lambdas.append(Data[Data.angle==i])\n",
    "lambdas.append(Data)"
   ]
  },
  {
   "cell_type": "code",
   "execution_count": 24,
   "metadata": {},
   "outputs": [],
   "source": [
    "Res=[]\n",
    "for i in a:\n",
    "    Res.append([i])\n",
    "Res.append([\"Todos\"])"
   ]
  },
  {
   "cell_type": "code",
   "execution_count": 25,
   "metadata": {},
   "outputs": [],
   "source": [
    "def round_to_3(x):\n",
    "    return round(x, -int(np.math.floor(np.math.log10(abs(x))))+2)"
   ]
  },
  {
   "cell_type": "code",
   "execution_count": 26,
   "metadata": {},
   "outputs": [
    {
     "name": "stderr",
     "output_type": "stream",
     "text": [
      "100%|████████████████████████████████████████████████████████████████████████████████████| 7/7 [00:21<00:00,  3.13s/it]\n"
     ]
    }
   ],
   "source": [
    "count=0\n",
    "mus=[]\n",
    "sigmas=[]\n",
    "siv=[]\n",
    "for k in tqdm(lambdas):\n",
    "    \n",
    "    N=300\n",
    "    Gravedad=np.zeros(N)\n",
    "    ys=np.zeros(N,dtype=object)\n",
    "    for i in range(N):\n",
    "        Gravedad[i] =9.81+ np.random.normal(loc=1,scale=1)\n",
    "        y=k.y+np.random.normal(loc=0,scale=np.array(k.sigmay)[0],size=len(k.y))\n",
    "        ys[i]=y\n",
    "    x=k.h\n",
    "    \n",
    "    listparam=[]\n",
    "    for i in range(len(Gravedad)):\n",
    "        obj=modelodepg(Gravedad[i],k.angle)\n",
    "        r=ys[i]-obj.modelo(x)\n",
    "        chisq=sum((r/k.sigmay)**2)\n",
    "        param,_=opt(obj.modelo,x,ys[i],sigma=np.full_like(x,chisq))\n",
    "        listparam.append(param)\n",
    "    listparam=np.array(listparam)\n",
    "    \n",
    "    Omega=listparam[:,0]\n",
    "    \n",
    "    H2,binsx,binsy = np.histogram2d(Omega,Gravedad,bins=(25,25))\n",
    "    nbinsx=[]\n",
    "    nbinsy=[]\n",
    "    for i in range(len(binsx)-1):\n",
    "        nbinsx.append((binsx[i]+binsx[i+1])/2)\n",
    "        nbinsy.append((binsy[i]+binsy[i+1])/2)\n",
    "\n",
    "    H1 = np.sum(H2,axis=1)\n",
    "    cs = np.cumsum(H1)\n",
    "    ij = np.searchsorted(cs,np.percentile(cs,16))\n",
    "    ii = np.searchsorted(cs,np.percentile(cs,50))\n",
    "    ji = np.searchsorted(cs,np.percentile(cs,84))\n",
    "    \n",
    "    mu=nbinsx[ii]\n",
    "    sigma=(nbinsx[ji]-nbinsx[ij])/2\n",
    "    Icn= mu-sigma\n",
    "    Icp= mu+sigma\n",
    "    \n",
    "    Res[count].append(round_to_3(mu))\n",
    "    \n",
    "    Res[count].append(round_to_3(Icn))\n",
    "    \n",
    "    Res[count].append(round_to_3(Icp))\n",
    "    \n",
    "    Res[count].append(round_to_3(sigma/mu))\n",
    "    \n",
    "    count+=1"
   ]
  },
  {
   "cell_type": "code",
   "execution_count": 27,
   "metadata": {
    "scrolled": true
   },
   "outputs": [
    {
     "data": {
      "text/html": [
       "<div>\n",
       "<style scoped>\n",
       "    .dataframe tbody tr th:only-of-type {\n",
       "        vertical-align: middle;\n",
       "    }\n",
       "\n",
       "    .dataframe tbody tr th {\n",
       "        vertical-align: top;\n",
       "    }\n",
       "\n",
       "    .dataframe thead th {\n",
       "        text-align: right;\n",
       "    }\n",
       "</style>\n",
       "<table border=\"1\" class=\"dataframe\">\n",
       "  <thead>\n",
       "    <tr style=\"text-align: right;\">\n",
       "      <th></th>\n",
       "      <th>Lamda</th>\n",
       "      <th>w</th>\n",
       "      <th>IC-</th>\n",
       "      <th>IC+</th>\n",
       "      <th>Sigma</th>\n",
       "    </tr>\n",
       "  </thead>\n",
       "  <tbody>\n",
       "    <tr>\n",
       "      <th>0</th>\n",
       "      <td>10.0</td>\n",
       "      <td>0.000074</td>\n",
       "      <td>0.000066</td>\n",
       "      <td>0.000083</td>\n",
       "      <td>0.114</td>\n",
       "    </tr>\n",
       "    <tr>\n",
       "      <th>1</th>\n",
       "      <td>20.0</td>\n",
       "      <td>0.000077</td>\n",
       "      <td>0.000067</td>\n",
       "      <td>0.000086</td>\n",
       "      <td>0.128</td>\n",
       "    </tr>\n",
       "    <tr>\n",
       "      <th>2</th>\n",
       "      <td>30.0</td>\n",
       "      <td>0.000078</td>\n",
       "      <td>0.000068</td>\n",
       "      <td>0.000087</td>\n",
       "      <td>0.122</td>\n",
       "    </tr>\n",
       "    <tr>\n",
       "      <th>3</th>\n",
       "      <td>40.0</td>\n",
       "      <td>0.000078</td>\n",
       "      <td>0.000068</td>\n",
       "      <td>0.000087</td>\n",
       "      <td>0.124</td>\n",
       "    </tr>\n",
       "    <tr>\n",
       "      <th>4</th>\n",
       "      <td>50.0</td>\n",
       "      <td>0.000070</td>\n",
       "      <td>0.000059</td>\n",
       "      <td>0.000081</td>\n",
       "      <td>0.160</td>\n",
       "    </tr>\n",
       "    <tr>\n",
       "      <th>5</th>\n",
       "      <td>60.0</td>\n",
       "      <td>0.000081</td>\n",
       "      <td>0.000067</td>\n",
       "      <td>0.000095</td>\n",
       "      <td>0.176</td>\n",
       "    </tr>\n",
       "    <tr>\n",
       "      <th>6</th>\n",
       "      <td>Todos</td>\n",
       "      <td>0.000076</td>\n",
       "      <td>0.000070</td>\n",
       "      <td>0.000083</td>\n",
       "      <td>0.085</td>\n",
       "    </tr>\n",
       "  </tbody>\n",
       "</table>\n",
       "</div>"
      ],
      "text/plain": [
       "   Lamda         w       IC-       IC+  Sigma\n",
       "0   10.0  0.000074  0.000066  0.000083  0.114\n",
       "1   20.0  0.000077  0.000067  0.000086  0.128\n",
       "2   30.0  0.000078  0.000068  0.000087  0.122\n",
       "3   40.0  0.000078  0.000068  0.000087  0.124\n",
       "4   50.0  0.000070  0.000059  0.000081  0.160\n",
       "5   60.0  0.000081  0.000067  0.000095  0.176\n",
       "6  Todos  0.000076  0.000070  0.000083  0.085"
      ]
     },
     "execution_count": 27,
     "metadata": {},
     "output_type": "execute_result"
    }
   ],
   "source": [
    "df = pd.DataFrame(Res, columns=['Lamda', 'w',\"IC-\",\"IC+\",\"Sigma\"])\n",
    "df"
   ]
  },
  {
   "cell_type": "code",
   "execution_count": 28,
   "metadata": {},
   "outputs": [],
   "source": [
    "x=[]\n",
    "y=[]\n",
    "erry=[]\n",
    "for i in Res:\n",
    "    x.append(\"Lamd=\"+str(i[0]))\n",
    "    y.append(i[1])\n",
    "    erry.append(i[2])\n",
    "x[-1]=\"TODOS\""
   ]
  },
  {
   "cell_type": "code",
   "execution_count": 29,
   "metadata": {},
   "outputs": [
    {
     "data": {
      "text/plain": [
       "Text(0.5, 1.0, 'Comparación de resultados experimentales con teórico')"
      ]
     },
     "execution_count": 29,
     "metadata": {},
     "output_type": "execute_result"
    },
    {
     "data": {
      "image/png": "[encoded data removed]",
      "text/plain": [
       "<Figure size 432x288 with 1 Axes>"
      ]
     },
     "metadata": {
      "needs_background": "light"
     },
     "output_type": "display_data"
    }
   ],
   "source": [
    "plt.errorbar(x,y,yerr=erry,fmt='ko',label=\"Datos experimentales\",capsize=3)\n",
    "plt.axhline(y = 7.27*10**-5, color = 'r', linestyle = '--')\n",
    "plt.ylabel(\"w[Rads/s]\")\n",
    "plt.xlabel(\"Lambdas\")\n",
    "plt.title(\"Comparación de resultados experimentales con teórico\")"
   ]
  }
 ],
 "metadata": {
  "kernelspec": {
   "display_name": "Python 3",
   "language": "python",
   "name": "python3"
  },
  "language_info": {
   "codemirror_mode": {
    "name": "ipython",
    "version": 3
   },
   "file_extension": ".py",
   "mimetype": "text/x-python",
   "name": "python",
   "nbconvert_exporter": "python",
   "pygments_lexer": "ipython3",
   "version": "3.8.8"
  }
 },
 "nbformat": 4,
 "nbformat_minor": 4
}

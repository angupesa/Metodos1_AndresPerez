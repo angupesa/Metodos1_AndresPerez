{
  "cells": [
    {
      "cell_type": "code",
      "execution_count": 81,
      "metadata": {
        "id": "TiuLj9udtYsX"
      },
      "outputs": [],
      "source": [
        "import sympy as sym\n",
        "import numpy as np\n",
        "import matplotlib.pyplot as plt"
      ]
    },
    {
      "cell_type": "code",
      "execution_count": 82,
      "metadata": {
        "id": "GlxrQ2k8tYsa"
      },
      "outputs": [],
      "source": [
        "x=sym.Symbol(\"x\",real=True)\n",
        "y=sym.Symbol(\"y\",real=True)"
      ]
    },
    {
      "cell_type": "code",
      "execution_count": 83,
      "metadata": {
        "colab": {
          "base_uri": "https://localhost:8080/",
          "height": 38
        },
        "id": "LDZp19qbtYsb",
        "outputId": "63683036-e66a-4d09-edbb-128ab664c62b"
      },
      "outputs": [
        {
          "output_type": "execute_result",
          "data": {
            "text/plain": [
              "x + I*y"
            ],
            "text/latex": "$\\displaystyle x + i y$"
          },
          "metadata": {},
          "execution_count": 83
        }
      ],
      "source": [
        "z=x+sym.I*y\n",
        "z"
      ]
    },
    {
      "cell_type": "code",
      "execution_count": 84,
      "metadata": {
        "colab": {
          "base_uri": "https://localhost:8080/",
          "height": 39
        },
        "id": "m0H76NuhtYsc",
        "outputId": "555ce76e-32ca-482d-f713-2c2efaeb6695"
      },
      "outputs": [
        {
          "output_type": "execute_result",
          "data": {
            "text/plain": [
              "(x + I*y)**3 - 1"
            ],
            "text/latex": "$\\displaystyle \\left(x + i y\\right)^{3} - 1$"
          },
          "metadata": {},
          "execution_count": 84
        }
      ],
      "source": [
        "f=z**3-1\n",
        "f"
      ]
    },
    {
      "cell_type": "code",
      "execution_count": 85,
      "metadata": {
        "colab": {
          "base_uri": "https://localhost:8080/"
        },
        "id": "-LPV2QVKtYsd",
        "outputId": "ab8bb0c4-b19f-40bd-84a3-69842688f7ca"
      },
      "outputs": [
        {
          "output_type": "execute_result",
          "data": {
            "text/plain": [
              "[x**3 - 3*x*y**2 - 1, 3*x**2*y - y**3]"
            ]
          },
          "metadata": {},
          "execution_count": 85
        }
      ],
      "source": [
        "F=[sym.re(f),sym.im(f)]\n",
        "F"
      ]
    },
    {
      "cell_type": "code",
      "execution_count": 86,
      "metadata": {
        "colab": {
          "base_uri": "https://localhost:8080/"
        },
        "id": "2ln6ZVHLtYse",
        "outputId": "794c3bb7-bf7e-40af-a027-fe02dccdac9a"
      },
      "outputs": [
        {
          "output_type": "execute_result",
          "data": {
            "text/plain": [
              "[[3*x**2 - 3*y**2, -6*x*y], [6*x*y, 3*x**2 - 3*y**2]]"
            ]
          },
          "metadata": {},
          "execution_count": 86
        }
      ],
      "source": [
        "def Jacobian (f):\n",
        "    J=[[],[]]\n",
        "    J[0].append(sym.diff(f[0],x,1))\n",
        "    J[0].append(sym.diff(f[0],y,1))\n",
        "    J[1].append(sym.diff(f[1],x,1))\n",
        "    J[1].append(sym.diff(f[1],y,1))\n",
        "    return J\n",
        "J=Jacobian(F)\n",
        "J"
      ]
    },
    {
      "cell_type": "code",
      "execution_count": 87,
      "metadata": {
        "colab": {
          "base_uri": "https://localhost:8080/"
        },
        "id": "fF64t9-btYsf",
        "outputId": "4d88eef1-f32f-4dc4-ce12-d551f1e98dff"
      },
      "outputs": [
        {
          "output_type": "execute_result",
          "data": {
            "text/plain": [
              "<function _lambdifygenerated(x, y)>"
            ]
          },
          "metadata": {},
          "execution_count": 87
        }
      ],
      "source": [
        "Jn=sym.lambdify([x,y],J,'numpy')\n",
        "Jn"
      ]
    },
    {
      "cell_type": "code",
      "execution_count": 88,
      "metadata": {
        "colab": {
          "base_uri": "https://localhost:8080/"
        },
        "id": "K3bAmbqgtYsf",
        "outputId": "c47bbd40-5fa0-466a-f120-1c8bcc0676f0"
      },
      "outputs": [
        {
          "output_type": "execute_result",
          "data": {
            "text/plain": [
              "<function _lambdifygenerated(x, y)>"
            ]
          },
          "metadata": {},
          "execution_count": 88
        }
      ],
      "source": [
        "Fn=sym.lambdify([x,y],F,'numpy')\n",
        "Fn"
      ]
    },
    {
      "cell_type": "code",
      "execution_count": 89,
      "metadata": {
        "id": "Z5Q4LeFrtYsg"
      },
      "outputs": [],
      "source": [
        "def NewtonRaphson(z0,Fn,Jn,e=1*10**-7):\n",
        "    parar=False\n",
        "    while not parar:\n",
        "        \n",
        "        x= z0[0]\n",
        "        y= z0[1]\n",
        "        if x!=0 and y!=0:\n",
        "          data=[x,y]-(np.linalg.inv(Jn(x,y))@Fn(x,y)) \n",
        "          if np.linalg.norm(data-z0)<e:\n",
        "            return data\n",
        "        z0=data"
      ]
    },
    {
      "cell_type": "code",
      "execution_count": 90,
      "metadata": {
        "colab": {
          "base_uri": "https://localhost:8080/"
        },
        "id": "fv37i19ztYsh",
        "outputId": "a0b0fe8b-1266-453e-9a3f-ac6114b6b27a"
      },
      "outputs": [
        {
          "output_type": "execute_result",
          "data": {
            "text/plain": [
              "array([-0.5      ,  0.8660254])"
            ]
          },
          "metadata": {},
          "execution_count": 90
        }
      ],
      "source": [
        "z0=np.array([0.5,0.5])\n",
        "\n",
        "NewtonRaphson(z0,Fn,Jn)"
      ]
    },
    {
      "cell_type": "code",
      "execution_count": 91,
      "metadata": {
        "id": "8RUiNaoqtYsi"
      },
      "outputs": [],
      "source": [
        "N=300\n",
        "x=np.linspace(-1,1,N)\n",
        "y=np.linspace(-1,1,N)"
      ]
    },
    {
      "cell_type": "code",
      "execution_count": 92,
      "metadata": {
        "id": "MnXtDTIwtYsj"
      },
      "outputs": [],
      "source": [
        "Fractal=np.zeros((N,N),np.int64)"
      ]
    },
    {
      "cell_type": "code",
      "execution_count": 93,
      "metadata": {
        "id": "kJgMvbSHtYsj"
      },
      "outputs": [],
      "source": [
        "zr0=np.array([-0.5,np.sqrt(3)/2])\n",
        "zr1=np.array([-0.5,-np.sqrt(3)/2])\n",
        "zr2=np.array([1,0])\n",
        "e=1*10**-7"
      ]
    },
    {
      "cell_type": "code",
      "execution_count": 94,
      "metadata": {
        "id": "29L9FQl_tYsk"
      },
      "outputs": [],
      "source": [
        "for i in range(len(x)):\n",
        "    for j in range(len(y)):\n",
        "        zij=np.array([x[i],y[j]])\n",
        "        res=NewtonRaphson(zij,Fn,Jn)\n",
        "        if np.linalg.norm(zr0-res)<e:\n",
        "            Fractal[i][j]=20\n",
        "        \n",
        "        elif np.linalg.norm(zr0-res)<e:\n",
        "            Fractal[i][j]=100\n",
        "        \n",
        "        elif np.linalg.norm(zr0-res)<e:\n",
        "            Fractal[i][j]=255"
      ]
    },
    {
      "cell_type": "code",
      "execution_count": 95,
      "metadata": {
        "colab": {
          "base_uri": "https://localhost:8080/",
          "height": 452
        },
        "id": "M7LrHlOItYsk",
        "outputId": "d3c48507-46d8-4e60-f457-af3de17b0ee9"
      },
      "outputs": [
        {
          "output_type": "execute_result",
          "data": {
            "text/plain": [
              "<matplotlib.image.AxesImage at 0x7f46fc16d480>"
            ]
          },
          "metadata": {},
          "execution_count": 95
        },
        {
          "output_type": "display_data",
          "data": {
            "text/plain": [
              "<Figure size 640x480 with 1 Axes>"
            ],
            "image/png": "[encoded data removed]"
          },
          "metadata": {}
        }
      ],
      "source": [
        "plt.imshow(Fractal,cmap='coolwarm',extent=[-1,1,-1,1])"
      ]
    },
    {
      "cell_type": "code",
      "execution_count": null,
      "metadata": {
        "id": "oNZ3q3EGtYsk"
      },
      "outputs": [],
      "source": []
    },
    {
      "cell_type": "code",
      "execution_count": null,
      "metadata": {
        "id": "kseY0VcPtYsl"
      },
      "outputs": [],
      "source": []
    }
  ],
  "metadata": {
    "kernelspec": {
      "display_name": "Python 3 (ipykernel)",
      "language": "python",
      "name": "python3"
    },
    "language_info": {
      "codemirror_mode": {
        "name": "ipython",
        "version": 3
      },
      "file_extension": ".py",
      "mimetype": "text/x-python",
      "name": "python",
      "nbconvert_exporter": "python",
      "pygments_lexer": "ipython3",
      "version": "3.9.13"
    },
    "colab": {
      "provenance": []
    }
  },
  "nbformat": 4,
  "nbformat_minor": 0
}
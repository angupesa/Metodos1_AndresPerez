{
 "cells": [
  {
   "cell_type": "code",
   "execution_count": 109,
   "id": "72c25ad5",
   "metadata": {},
   "outputs": [],
   "source": [
    "import numpy as np\n",
    "import sympy as sy"
   ]
  },
  {
   "cell_type": "code",
   "execution_count": 110,
   "id": "cfbffeeb",
   "metadata": {},
   "outputs": [],
   "source": [
    "Jx=np.array([[0,0,0],\n",
    "            [0,0,-1],\n",
    "            [0,1,0]])\n",
    "\n",
    "Jy=np.array([[0,0,1],\n",
    "             [0,0,0],\n",
    "             [-1,0,0]])\n",
    "\n",
    "Jz=np.array([[0,-1,0],\n",
    "             [1,0,0],\n",
    "             [0,0,0]])"
   ]
  },
  {
   "cell_type": "code",
   "execution_count": 111,
   "id": "97169416",
   "metadata": {},
   "outputs": [],
   "source": [
    "def CumpleLie(A,B,C):\n",
    "    \n",
    "    def Conmutador(A,B):\n",
    "        return np.matmul(A,B)-np.matmul(B,A)\n",
    "    \n",
    "    def SimboloLieCivita(i,j,k):\n",
    "        if (i==0 and j==1 and k==2) or (i==1 and j==2 and k==0) or (i==2 and j==0 and k==1):\n",
    "            return 1\n",
    "        elif (i==2 and j==1 and k==0) or (i==0 and j==2 and k==1) or (i==1 and j==0 and k==2):\n",
    "            return -1\n",
    "        else:\n",
    "            return 0\n",
    "    \n",
    "    def ProbarCombinacion(Ms):\n",
    "        N=3\n",
    "        res=True\n",
    "        \n",
    "        for i in range(N):\n",
    "            \n",
    "            for j in range(N):\n",
    "                \n",
    "                for k in range(N):\n",
    "                    \n",
    "                    ##Esta condición no está en las notas, pero en otra\n",
    "                    ##sí aclaran esta parte.\n",
    "                    if k!=i and k!=j:\n",
    "                        dato1=Conmutador(Ms[i],Ms[j])\n",
    "                        dato2=np.multiply(SimboloLieCivita(i,j,k),Ms[k])\n",
    "                    \n",
    "                        for x in range(N):\n",
    "                        \n",
    "                            for y in range(N):\n",
    "                            \n",
    "                                if dato1[x][y]-dato2[x][y]!=0:\n",
    "                                    res=False\n",
    "        return res\n",
    "    \n",
    "    res=True\n",
    "    Ms=[A,B,C]\n",
    "    res=ProbarCombinacion(Ms)\n",
    "    return res"
   ]
  },
  {
   "cell_type": "code",
   "execution_count": 112,
   "id": "dc95164c",
   "metadata": {},
   "outputs": [
    {
     "data": {
      "text/plain": [
       "True"
      ]
     },
     "execution_count": 112,
     "metadata": {},
     "output_type": "execute_result"
    }
   ],
   "source": [
    "CumpleLie(Jx,Jy,Jz)"
   ]
  }
 ],
 "metadata": {
  "kernelspec": {
   "display_name": "Python 3",
   "language": "python",
   "name": "python3"
  },
  "language_info": {
   "codemirror_mode": {
    "name": "ipython",
    "version": 3
   },
   "file_extension": ".py",
   "mimetype": "text/x-python",
   "name": "python",
   "nbconvert_exporter": "python",
   "pygments_lexer": "ipython3",
   "version": "3.8.8"
  }
 },
 "nbformat": 4,
 "nbformat_minor": 5
}

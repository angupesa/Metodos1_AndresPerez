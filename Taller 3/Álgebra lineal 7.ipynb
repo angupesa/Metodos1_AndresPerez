{
 "cells": [
  {
   "cell_type": "code",
   "execution_count": 112,
   "id": "50204940",
   "metadata": {},
   "outputs": [],
   "source": [
    "import numpy as np"
   ]
  },
  {
   "cell_type": "code",
   "execution_count": 113,
   "id": "51dcb73c",
   "metadata": {},
   "outputs": [],
   "source": [
    "A=np.array([[4,-2,1],\n",
    "            [20,-7,12],\n",
    "            [-8,13,17]])"
   ]
  },
  {
   "cell_type": "code",
   "execution_count": 114,
   "id": "5eddb0c7",
   "metadata": {},
   "outputs": [],
   "source": [
    "##Solo funciona con matrices cuadradas\n",
    "def LU(A):\n",
    "    m=len(A)\n",
    "    cuadrada=True\n",
    "    for i in range(m):\n",
    "        if not (len(A[i])==m):\n",
    "            cuadrada=False\n",
    "    if not cuadrada:\n",
    "        return \"La matriz no es cuadrada\"\n",
    "    \n",
    "    else:\n",
    "        N=m\n",
    "        L=[]\n",
    "        U=A\n",
    "        for i in range(N):\n",
    "            L.append(np.ndarray.tolist(np.zeros(N)))\n",
    "            L[i][i]=1\n",
    "        \n",
    "        for j in range(N):\n",
    "            for i in range(N):\n",
    "                if i>j:\n",
    "                    mult=A[i][j]/A[j][j]\n",
    "                    U[i]=U[i]-mult*U[j]\n",
    "                    L[i][j]=mult\n",
    "        \n",
    "        L=np.array(L)\n",
    "        return L,U"
   ]
  },
  {
   "cell_type": "code",
   "execution_count": 115,
   "id": "9de36d2d",
   "metadata": {},
   "outputs": [
    {
     "data": {
      "text/plain": [
       "(array([[ 1.,  0.,  0.],\n",
       "        [ 5.,  1.,  0.],\n",
       "        [-2.,  3.,  1.]]),\n",
       " array([[ 4, -2,  1],\n",
       "        [ 0,  3,  7],\n",
       "        [ 0,  0, -2]]))"
      ]
     },
     "execution_count": 115,
     "metadata": {},
     "output_type": "execute_result"
    }
   ],
   "source": [
    "LU(A)\n",
    "##Funciona con cualquier matriz cuadrada"
   ]
  }
 ],
 "metadata": {
  "kernelspec": {
   "display_name": "Python 3",
   "language": "python",
   "name": "python3"
  },
  "language_info": {
   "codemirror_mode": {
    "name": "ipython",
    "version": 3
   },
   "file_extension": ".py",
   "mimetype": "text/x-python",
   "name": "python",
   "nbconvert_exporter": "python",
   "pygments_lexer": "ipython3",
   "version": "3.8.8"
  }
 },
 "nbformat": 4,
 "nbformat_minor": 5
}

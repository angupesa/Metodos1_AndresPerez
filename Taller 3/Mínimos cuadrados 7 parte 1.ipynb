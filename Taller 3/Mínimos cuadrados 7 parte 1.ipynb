{
 "cells": [
  {
   "cell_type": "code",
   "execution_count": 1,
   "metadata": {},
   "outputs": [],
   "source": [
    "import numpy as np\n",
    "import matplotlib.pyplot as plt\n",
    "import pandas as pd\n",
    "import os.path as path\n",
    "import os\n",
    "import wget"
   ]
  },
  {
   "cell_type": "code",
   "execution_count": 2,
   "metadata": {},
   "outputs": [],
   "source": [
    "if not path.exists('Data'):\n",
    "    os.mkdir('Data')\n",
    "    \n",
    "file = 'Data/Minimos.dat'\n",
    "url = 'https://raw.githubusercontent.com/asegura4488/Database/main/MetodosComputacionalesReforma/Sigmoid.csv'\n",
    "\n",
    "if not path.exists(file):\n",
    "    Path_ = wget.download(url,file)\n",
    "    \n",
    "else:\n",
    "    Path_ = file\n",
    "Data = pd.read_csv(Path_)"
   ]
  },
  {
   "cell_type": "code",
   "execution_count": 3,
   "metadata": {},
   "outputs": [],
   "source": [
    "x=Data.x\n",
    "y=Data.y"
   ]
  },
  {
   "cell_type": "code",
   "execution_count": 4,
   "metadata": {},
   "outputs": [],
   "source": [
    "def M(x,v):\n",
    "    return v[0]/(v[1]+np.e**(-v[2]*x))"
   ]
  },
  {
   "cell_type": "code",
   "execution_count": 5,
   "metadata": {},
   "outputs": [],
   "source": [
    "def costoM(v,x,y):\n",
    "    suma=[]\n",
    "    N=len(x)\n",
    "    sigma=np.ones_like(y)\n",
    "    for i in range(N):\n",
    "        suma.append(((y[i]-M(x,v))/(sigma[i]))**2)\n",
    "    suma=sum(suma)\n",
    "    return suma"
   ]
  },
  {
   "cell_type": "code",
   "execution_count": 6,
   "metadata": {},
   "outputs": [],
   "source": [
    "def DMv0(x,v):\n",
    "    return 1/(v[1]+np.e**(-v[2]*x))\n",
    "\n",
    "def DMv1(x,v):\n",
    "    return -v[0]/(v[1]+np.e**(-v[2]*x))**2\n",
    "\n",
    "def DMv2(x,v):\n",
    "    return v[0]*x*np.e**(-x*v[2])/(v[1]+np.e**(-v[2]*x))**2"
   ]
  },
  {
   "cell_type": "code",
   "execution_count": 7,
   "metadata": {},
   "outputs": [],
   "source": [
    "def actualizarV(v,x,y,g):\n",
    "    vres=np.zeros_like(v)\n",
    "    N=len(x)\n",
    "    \n",
    "    z=y-M(x,v)\n",
    "    suma0=z*DMv0(x,v)\n",
    "    suma0=sum(suma0)\n",
    "    suma1=z*DMv1(x,v)\n",
    "    suma1=sum(suma1)\n",
    "    suma2=z*DMv2(x,v)\n",
    "    suma2=sum(suma2)\n",
    "    \n",
    "    vres[0]=v[0]-g*(-2*suma0)\n",
    "    vres[1]=v[1]-g*(-2*suma1)\n",
    "    vres[2]=v[2]-g*(-2*suma2)\n",
    "    \n",
    "    return vres"
   ]
  },
  {
   "cell_type": "code",
   "execution_count": 8,
   "metadata": {},
   "outputs": [
    {
     "name": "stdout",
     "output_type": "stream",
     "text": [
      "El numero de iteraciones con g=1*10^-3 es:\n",
      "7\n"
     ]
    }
   ],
   "source": [
    "v0=np.array([1.0,1.0,1.0])\n",
    "v=[]\n",
    "E=0.01\n",
    "it=0\n",
    "for i in range(10**4):\n",
    "    v=actualizarV(v0,x,y,10**-3)\n",
    "    it+=1\n",
    "    \n",
    "    if abs(np.linalg.norm(v)-np.linalg.norm(v0))<=E:\n",
    "        break\n",
    "    \n",
    "    else:\n",
    "        v0=v\n",
    "print(\"El numero de iteraciones con g=1*10^-3 es:\")\n",
    "print(it)"
   ]
  },
  {
   "cell_type": "code",
   "execution_count": 9,
   "metadata": {},
   "outputs": [],
   "source": [
    "vg1=v"
   ]
  },
  {
   "cell_type": "code",
   "execution_count": 10,
   "metadata": {},
   "outputs": [
    {
     "name": "stdout",
     "output_type": "stream",
     "text": [
      "El numero de iteraciones con g=5*10^-4 es:\n",
      "84\n"
     ]
    }
   ],
   "source": [
    "v0=np.array([1.0,1.0,1.0])\n",
    "\n",
    "it=0\n",
    "for i in range(10**4):\n",
    "    v=actualizarV(v0,x,y,5*10**-4)\n",
    "    it+=1\n",
    "    \n",
    "    if (abs(v[0]-v0[0])<=E) and (abs(v[1]-v0[1])<=E) and (abs(v[2]-v0[2])<=E):\n",
    "        break\n",
    "    \n",
    "    else:\n",
    "        v0=v\n",
    "print(\"El numero de iteraciones con g=5*10^-4 es:\")\n",
    "print(it)"
   ]
  },
  {
   "cell_type": "code",
   "execution_count": 11,
   "metadata": {},
   "outputs": [],
   "source": [
    "vg2=v"
   ]
  },
  {
   "cell_type": "code",
   "execution_count": 12,
   "metadata": {},
   "outputs": [],
   "source": [
    "X=np.linspace(-10,10,2000)\n",
    "Y1=M(X,vg1)\n",
    "Y2=M(X,vg2)"
   ]
  },
  {
   "cell_type": "code",
   "execution_count": 13,
   "metadata": {},
   "outputs": [
    {
     "data": {
      "image/png": "[encoded data removed]",
      "text/plain": [
       "<Figure size 432x288 with 1 Axes>"
      ]
     },
     "metadata": {
      "needs_background": "light"
     },
     "output_type": "display_data"
    }
   ],
   "source": [
    "plt.scatter(x,y,color='k',label=\"Valores experimentales\")\n",
    "plt.plot(X,Y1,color='b',label=\"Modelo con g=1x10^-3\",linestyle=\"--\")\n",
    "plt.plot(X,Y2,color='r',label=\"Modelo con g=5x10^-4\",linestyle=\"--\")\n",
    "plt.ylabel(\"Y\")\n",
    "plt.xlabel(\"X\")\n",
    "plt.legend()\n",
    "plt.show()"
   ]
  },
  {
   "cell_type": "code",
   "execution_count": 14,
   "metadata": {},
   "outputs": [],
   "source": [
    "## Es evidente que con este criterio de parada g=1*10^-3 no logra un buen modelo\n",
    "## Sin embargo, aumentar el criterio de parada aumenta el numero de iteraciones y\n",
    "## el algoritmo toma más tiempo. Este ejercicio sirve para mostrar como cambiar g\n",
    "## sirve para mantener un tiempo responsable y lograr un buen modelo"
   ]
  }
 ],
 "metadata": {
  "kernelspec": {
   "display_name": "Python 3",
   "language": "python",
   "name": "python3"
  },
  "language_info": {
   "codemirror_mode": {
    "name": "ipython",
    "version": 3
   },
   "file_extension": ".py",
   "mimetype": "text/x-python",
   "name": "python",
   "nbconvert_exporter": "python",
   "pygments_lexer": "ipython3",
   "version": "3.7.6"
  }
 },
 "nbformat": 4,
 "nbformat_minor": 4
}

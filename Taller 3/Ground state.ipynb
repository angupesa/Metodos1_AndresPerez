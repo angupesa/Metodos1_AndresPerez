{
 "cells": [
  {
   "cell_type": "code",
   "execution_count": 3,
   "id": "eb359dee",
   "metadata": {},
   "outputs": [],
   "source": [
    "import numpy as np"
   ]
  },
  {
   "cell_type": "code",
   "execution_count": 4,
   "id": "2dc22f67",
   "metadata": {},
   "outputs": [],
   "source": [
    "H=np.array([[1,2,-1],[1,0,1],[4,-4,5]])\n",
    "x0=np.array([1,1,1])\n",
    "def ground (H,x0,m=1000,t=1e-10):\n",
    "    for i in range(m):\n",
    "        x=np.linalg.solve(H,x0)\n",
    "        value=(x@x0)/(x0@x0)\n",
    "        a=np.linalg.norm(x-x0)\n",
    "        if a<t:\n",
    "            break\n",
    "        x0=x\n",
    "    return value, -1*(x/np.linalg.norm(x))\n"
   ]
  },
  {
   "cell_type": "code",
   "execution_count": 5,
   "id": "fb705fb4",
   "metadata": {},
   "outputs": [
    {
     "data": {
      "text/plain": [
       "(1.000000000017786, array([ 0.40824829, -0.40824829, -0.81649658]))"
      ]
     },
     "execution_count": 5,
     "metadata": {},
     "output_type": "execute_result"
    }
   ],
   "source": [
    "ground(H,x0)"
   ]
  },
  {
   "cell_type": "code",
   "execution_count": null,
   "id": "85f5dff9",
   "metadata": {},
   "outputs": [],
   "source": []
  }
 ],
 "metadata": {
  "kernelspec": {
   "display_name": "Python 3 (ipykernel)",
   "language": "python",
   "name": "python3"
  },
  "language_info": {
   "codemirror_mode": {
    "name": "ipython",
    "version": 3
   },
   "file_extension": ".py",
   "mimetype": "text/x-python",
   "name": "python",
   "nbconvert_exporter": "python",
   "pygments_lexer": "ipython3",
   "version": "3.9.13"
  }
 },
 "nbformat": 4,
 "nbformat_minor": 5
}

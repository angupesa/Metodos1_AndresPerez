{
 "cells": [
  {
   "cell_type": "code",
   "execution_count": 1,
   "id": "d7feb58c",
   "metadata": {},
   "outputs": [],
   "source": [
    "import numpy as np\n",
    "import matplotlib.pyplot as plt"
   ]
  },
  {
   "cell_type": "code",
   "execution_count": 2,
   "id": "6b7ceb5a",
   "metadata": {},
   "outputs": [],
   "source": [
    "A=[[3,-1,-1],\n",
    "    [-1,3,1],\n",
    "    [2,1,4]]\n",
    "B=[1,3,7]\n",
    "xinit=[0,0,0]"
   ]
  },
  {
   "cell_type": "code",
   "execution_count": 3,
   "id": "646498ec",
   "metadata": {},
   "outputs": [],
   "source": [
    "def SOR(A,B,x,w):\n",
    "    xact=[]\n",
    "    term1=[]\n",
    "    \n",
    "    for i in range(len(x)):\n",
    "        term1.append((1-w)*x[i])\n",
    "        \n",
    "        suma1=[0]\n",
    "        for j in range(i):\n",
    "            suma1.append(A[i][j]*xact[j])\n",
    "        suma1=sum(suma1)\n",
    "        \n",
    "        suma2=[]\n",
    "        for j in range(i+1,len(x)):\n",
    "            suma2.append(A[i][j]*x[j])\n",
    "        suma2=sum(suma2)\n",
    "        \n",
    "        term2=w/A[i][i]*(B[i]-suma1-suma2)\n",
    "        xact.append(term1[i]+term2)\n",
    "    \n",
    "    return xact\n",
    "    "
   ]
  },
  {
   "cell_type": "code",
   "execution_count": 4,
   "id": "b690d9f3",
   "metadata": {},
   "outputs": [],
   "source": [
    "def Resolver(A,B,xinit,w):\n",
    "    it=0\n",
    "    seguir=True\n",
    "    x=xinit\n",
    "    while seguir:\n",
    "        testA=np.array(A)\n",
    "        testX=np.array(x)\n",
    "        test=testA.dot(testX)\n",
    "        \n",
    "        if np.round(test[0],8)==B[0] and np.round(test[1],8)==B[1] and np.round(test[2],8)==B[2]:\n",
    "            break\n",
    "        \n",
    "        elif it==1000000:\n",
    "            break\n",
    "        \n",
    "        else:\n",
    "            x=SOR(A,B,x,w)\n",
    "            it+=1\n",
    "    \n",
    "    return x,it"
   ]
  },
  {
   "cell_type": "code",
   "execution_count": 5,
   "id": "2cf40753",
   "metadata": {},
   "outputs": [],
   "source": [
    "##El código calcula la respuesta con un presición de 8 cifras decimales para\n",
    "##que sea más rápido"
   ]
  },
  {
   "cell_type": "code",
   "execution_count": 6,
   "id": "b4a5726f",
   "metadata": {},
   "outputs": [],
   "source": [
    "wopt=2/(1+np.pi/len(A))"
   ]
  },
  {
   "cell_type": "code",
   "execution_count": 7,
   "id": "f8bd589e",
   "metadata": {},
   "outputs": [
    {
     "name": "stdout",
     "output_type": "stream",
     "text": [
      "El w optimo es 0.9769452873910434\n",
      "El numero de iteraciones en el valor optimo es 14\n"
     ]
    }
   ],
   "source": [
    "print(\"El w optimo es \"+str(wopt))\n",
    "print(\"El numero de iteraciones en el valor optimo es \"+str(Resolver(A,B,xinit,wopt)[1]))"
   ]
  }
 ],
 "metadata": {
  "kernelspec": {
   "display_name": "Python 3",
   "language": "python",
   "name": "python3"
  },
  "language_info": {
   "codemirror_mode": {
    "name": "ipython",
    "version": 3
   },
   "file_extension": ".py",
   "mimetype": "text/x-python",
   "name": "python",
   "nbconvert_exporter": "python",
   "pygments_lexer": "ipython3",
   "version": "3.8.8"
  }
 },
 "nbformat": 4,
 "nbformat_minor": 5
}

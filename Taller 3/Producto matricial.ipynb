{
 "cells": [
  {
   "cell_type": "code",
   "execution_count": 3,
   "id": "8de3baeb",
   "metadata": {},
   "outputs": [],
   "source": [
    "import numpy as np"
   ]
  },
  {
   "cell_type": "code",
   "execution_count": 22,
   "id": "3821adfb",
   "metadata": {},
   "outputs": [],
   "source": [
    "def matrixmult (A, B):\n",
    "    C= np.zeros_like(A)\n",
    "    for i in range(len(A)):\n",
    "        for j in range(len(B)):\n",
    "            for k in range(len(A[0])):\n",
    "                C[i][j] += A[i][k] * B[k][j]\n",
    "    return C\n",
    "A=np.array([[1,0,0],[5,1,0],[-2,3,1]])\n",
    "B=np.array([[4,-2,1],[0,3,7],[0,0,2]])"
   ]
  },
  {
   "cell_type": "code",
   "execution_count": 23,
   "id": "2b406c78",
   "metadata": {},
   "outputs": [
    {
     "data": {
      "text/plain": [
       "array([[ 4, -2,  1],\n",
       "       [20, -7, 12],\n",
       "       [-8, 13, 21]])"
      ]
     },
     "execution_count": 23,
     "metadata": {},
     "output_type": "execute_result"
    }
   ],
   "source": [
    "R=matrixmult(A,B)\n",
    "R"
   ]
  },
  {
   "cell_type": "code",
   "execution_count": 24,
   "id": "ab054cad",
   "metadata": {},
   "outputs": [
    {
     "data": {
      "text/plain": [
       "array([[ 4, -2,  1],\n",
       "       [20, -7, 12],\n",
       "       [-8, 13, 21]])"
      ]
     },
     "execution_count": 24,
     "metadata": {},
     "output_type": "execute_result"
    }
   ],
   "source": [
    "A@B #Comprobacion "
   ]
  },
  {
   "cell_type": "code",
   "execution_count": null,
   "id": "5877539f",
   "metadata": {},
   "outputs": [],
   "source": []
  }
 ],
 "metadata": {
  "kernelspec": {
   "display_name": "Python 3 (ipykernel)",
   "language": "python",
   "name": "python3"
  },
  "language_info": {
   "codemirror_mode": {
    "name": "ipython",
    "version": 3
   },
   "file_extension": ".py",
   "mimetype": "text/x-python",
   "name": "python",
   "nbconvert_exporter": "python",
   "pygments_lexer": "ipython3",
   "version": "3.9.13"
  }
 },
 "nbformat": 4,
 "nbformat_minor": 5
}

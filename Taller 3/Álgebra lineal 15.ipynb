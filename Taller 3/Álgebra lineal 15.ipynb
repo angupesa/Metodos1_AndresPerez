{
 "cells": [
  {
   "cell_type": "code",
   "execution_count": 1,
   "metadata": {},
   "outputs": [],
   "source": [
    "import numpy as np"
   ]
  },
  {
   "cell_type": "code",
   "execution_count": 2,
   "metadata": {},
   "outputs": [],
   "source": [
    "g0=np.array([[complex(1,0),complex(0,0),complex(0,0),complex(0,0)],\n",
    "            [complex(0,0),complex(1,0),complex(0,0),complex(0,0)],\n",
    "            [complex(0,0),complex(0,0),complex(-1,0),complex(0,0)],\n",
    "            [complex(0,0),complex(0,0),complex(0,0),complex(-1,0)]])\n",
    "\n",
    "g1=np.array([[complex(0,0),complex(0,0),complex(0,0),complex(1,0)],\n",
    "            [complex(0,0),complex(0,0),complex(1,0),complex(0,0)],\n",
    "            [complex(0,0),complex(-1,0),complex(0,0),complex(0,0)],\n",
    "            [complex(-1,0),complex(0,0),complex(0,0),complex(0,0)]])\n",
    "\n",
    "g2=np.array([[complex(0,0),complex(0,0),complex(0,0),complex(0,-1)],\n",
    "            [complex(0,0),complex(0,0),complex(0,1),complex(0,0)],\n",
    "            [complex(0,0),complex(0,1),complex(0,0),complex(0,0)],\n",
    "            [complex(0,-1),complex(0,0),complex(0,0),complex(0,0)]])\n",
    "\n",
    "g3=np.array([[complex(0,0),complex(0,0),complex(1,0),complex(0,0)],\n",
    "            [complex(0,0),complex(0,0),complex(0,0),complex(-1,0)],\n",
    "            [complex(-1,0),complex(0,0),complex(0,0),complex(0,0)],\n",
    "            [complex(0,0),complex(1,0),complex(0,0),complex(0,0)]])"
   ]
  },
  {
   "cell_type": "code",
   "execution_count": 60,
   "metadata": {},
   "outputs": [],
   "source": [
    "def ProbarClifford(A,B,C,D):\n",
    "    Ms=[A,B,C,D]\n",
    "    \n",
    "    ##La anticonmutación se puede definir como una operación que si se invierten\n",
    "    ##los parametros da el mismo resultado pero *-1\n",
    "    \n",
    "    res=True\n",
    "    N=len(Ms)\n",
    "    for n in range(N):\n",
    "        for v in range(N):\n",
    "            if n!=v:\n",
    "                iguali=np.matmul(Ms[n],Ms[v])\n",
    "                iguald=np.matmul(Ms[v],Ms[n])\n",
    "                for x in range(N):\n",
    "                    for y in range(N):\n",
    "                        if iguali[x][y]!=-1*iguald[x][y]:\n",
    "                            res=False\n",
    "    return res"
   ]
  },
  {
   "cell_type": "code",
   "execution_count": 61,
   "metadata": {},
   "outputs": [
    {
     "data": {
      "text/plain": [
       "True"
      ]
     },
     "execution_count": 61,
     "metadata": {},
     "output_type": "execute_result"
    }
   ],
   "source": [
    "ProbarClifford(g0,g1,g2,g3)"
   ]
  }
 ],
 "metadata": {
  "kernelspec": {
   "display_name": "Python 3",
   "language": "python",
   "name": "python3"
  },
  "language_info": {
   "codemirror_mode": {
    "name": "ipython",
    "version": 3
   },
   "file_extension": ".py",
   "mimetype": "text/x-python",
   "name": "python",
   "nbconvert_exporter": "python",
   "pygments_lexer": "ipython3",
   "version": "3.7.6"
  }
 },
 "nbformat": 4,
 "nbformat_minor": 5
}

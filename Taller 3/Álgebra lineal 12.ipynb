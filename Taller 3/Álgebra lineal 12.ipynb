{
 "cells": [
  {
   "cell_type": "code",
   "execution_count": 48,
   "id": "b632f77b",
   "metadata": {},
   "outputs": [],
   "source": [
    "import numpy as np"
   ]
  },
  {
   "cell_type": "code",
   "execution_count": 49,
   "id": "2de20087",
   "metadata": {},
   "outputs": [],
   "source": [
    "LisF=[lambda v: 6*v[0]-2*np.cos(v[1]*v[2])-1,\n",
    "      lambda v: 9*v[1]+np.sqrt(v[0]**2+np.sin(v[2])+1.06)+0.9,\n",
    "      lambda v: 60*v[2]+3*np.e**(-v[0]*v[1])+10*np.pi-3]"
   ]
  },
  {
   "cell_type": "code",
   "execution_count": 50,
   "id": "eea3db28",
   "metadata": {},
   "outputs": [],
   "source": [
    "def JacobianoO4(LisF,h,x):\n",
    "    if len(LisF)!=len(x):\n",
    "        return \"La cantidad de funciones no es igual a la de incognitas\"\n",
    "    \n",
    "    N=len(x)\n",
    "    J=np.zeros([N,N])\n",
    "    \n",
    "    for i in range(len(LisF)):\n",
    "        for j in range(len(x)):\n",
    "            J[i][j]=DerivadaO4Vi(LisF[i],h,x,j)\n",
    "    \n",
    "    return J"
   ]
  },
  {
   "cell_type": "code",
   "execution_count": 51,
   "id": "fc999b0f",
   "metadata": {},
   "outputs": [],
   "source": [
    "def DerivadaO4Vi(F,h,v,i):\n",
    "    v2=np.zeros(len(v))\n",
    "    v2[i]=v2[i]+2*h\n",
    "    v2=v+v2\n",
    "    \n",
    "    v1=np.zeros(len(v))\n",
    "    v1[i]=v1[i]+h\n",
    "    v1=v+v1\n",
    "\n",
    "    vm1=np.zeros(len(v))\n",
    "    vm1[i]=vm1[i]-h\n",
    "    vm1=v+vm1\n",
    "\n",
    "    vm2=np.zeros(len(v))\n",
    "    vm2[i]=vm2[i]-2*h\n",
    "    vm2=v+vm2\n",
    "    \n",
    "    res=(-F(v2)+8*F(v1)-8*F(vm1)+F(vm2))/(12*h)\n",
    "    return res\n",
    "\n",
    "def DerivadaO2Vi(F,h,v,i):\n",
    "    v1=np.zeros(len(v))\n",
    "    v1[i]=v1[i]+h\n",
    "    v1=v+v1\n",
    "    \n",
    "    vm1=np.zeros(len(v))\n",
    "    vm1[i]=vm1[i]-h\n",
    "    vm1=v+vm1\n",
    "    \n",
    "    res=(F(v1)-F(vm1))/(2*h)\n",
    "    return res"
   ]
  },
  {
   "cell_type": "code",
   "execution_count": 52,
   "id": "70c88003",
   "metadata": {},
   "outputs": [
    {
     "name": "stdout",
     "output_type": "stream",
     "text": [
      "[[ 6.          0.24740396  0.24740396]\n",
      " [ 0.37377753  9.          0.32802064]\n",
      " [-1.16820117 -1.16820117 60.        ]]\n"
     ]
    }
   ],
   "source": [
    "O4=JacobianoO4(LisF,0.01,[0.5,0.5,0.5])\n",
    "print(Res1)"
   ]
  },
  {
   "cell_type": "code",
   "execution_count": 53,
   "id": "c408d6aa",
   "metadata": {},
   "outputs": [],
   "source": [
    "def JacobianoO2(LisF,h,x):\n",
    "    if len(LisF)!=len(x):\n",
    "        return \"La cantidad de funciones no es igual a la de incognitas\"\n",
    "    \n",
    "    N=len(x)\n",
    "    J=np.zeros([N,N])\n",
    "    \n",
    "    for i in range(len(LisF)):\n",
    "        for j in range(len(x)):\n",
    "            J[i][j]=DerivadaO2Vi(LisF[i],h,x,j)\n",
    "    \n",
    "    return J"
   ]
  },
  {
   "cell_type": "code",
   "execution_count": 54,
   "id": "3e9a73f4",
   "metadata": {},
   "outputs": [
    {
     "name": "stdout",
     "output_type": "stream",
     "text": [
      "[[ 6.          0.24740293  0.24740293]\n",
      " [ 0.37376854  9.          0.32801836]\n",
      " [-1.16820604 -1.16820604 60.        ]]\n"
     ]
    }
   ],
   "source": [
    "Mismoh=JacobianoO2(LisF,0.01,[0.5,0.5,0.5])\n",
    "print(a)"
   ]
  },
  {
   "cell_type": "code",
   "execution_count": 55,
   "id": "4eec7ff1",
   "metadata": {},
   "outputs": [
    {
     "name": "stdout",
     "output_type": "stream",
     "text": [
      "1e-08\n",
      "0.0001\n",
      "1e-08\n"
     ]
    }
   ],
   "source": [
    "print(0.01**4)\n",
    "print(0.01**2)\n",
    "print(0.0001**2)"
   ]
  },
  {
   "cell_type": "code",
   "execution_count": 56,
   "id": "e44ef4e5",
   "metadata": {},
   "outputs": [],
   "source": [
    "##Creo que tendrán la misma presición si h=0.0001 en el O(h^2)"
   ]
  },
  {
   "cell_type": "code",
   "execution_count": 60,
   "id": "7ed98f61",
   "metadata": {},
   "outputs": [],
   "source": [
    "Ajustadoh=JacobianoO2(LisF,0.0001,[0.5,0.5,0.5])"
   ]
  },
  {
   "cell_type": "code",
   "execution_count": 61,
   "id": "52088e5b",
   "metadata": {},
   "outputs": [
    {
     "name": "stdout",
     "output_type": "stream",
     "text": [
      "[[1.         1.00000417 1.00000417]\n",
      " [1.00002404 1.         1.00000696]\n",
      " [0.99999583 0.99999583 1.        ]]\n",
      "[[1. 1. 1.]\n",
      " [1. 1. 1.]\n",
      " [1. 1. 1.]]\n"
     ]
    }
   ],
   "source": [
    "print(O4/Mismoh)\n",
    "print(O4/Ajustadoh)"
   ]
  },
  {
   "cell_type": "code",
   "execution_count": 62,
   "id": "dc62354a",
   "metadata": {},
   "outputs": [],
   "source": [
    "##La división demuestra que al ajustar h se obtiene practicamente los mismos numeros"
   ]
  }
 ],
 "metadata": {
  "kernelspec": {
   "display_name": "Python 3",
   "language": "python",
   "name": "python3"
  },
  "language_info": {
   "codemirror_mode": {
    "name": "ipython",
    "version": 3
   },
   "file_extension": ".py",
   "mimetype": "text/x-python",
   "name": "python",
   "nbconvert_exporter": "python",
   "pygments_lexer": "ipython3",
   "version": "3.8.8"
  }
 },
 "nbformat": 4,
 "nbformat_minor": 5
}

{
 "cells": [
  {
   "cell_type": "code",
   "execution_count": 1,
   "id": "f3d0ccac",
   "metadata": {},
   "outputs": [],
   "source": [
    "import numpy as np\n",
    "import sympy as sp"
   ]
  },
  {
   "cell_type": "code",
   "execution_count": 53,
   "id": "ce7d9b77",
   "metadata": {},
   "outputs": [],
   "source": [
    "x=np.array([[0,1],[1,0]])\n",
    "y=np.array([[0,-1j],[1j,0]])\n",
    "z=np.array([[1,0],[0,-1]])\n",
    "def conmutador(a,b):\n",
    "    c=a@b-b@a\n",
    "    return c"
   ]
  },
  {
   "cell_type": "code",
   "execution_count": 54,
   "id": "c096778d",
   "metadata": {},
   "outputs": [],
   "source": [
    "#Codigo para saber si la permutacion de i,j,k es par o impar extraido de: https://python-forum.io/thread-11603.html\n",
    "def is_even(p):\n",
    "  i = 0\n",
    "  count = 0\n",
    "  while(i < len(p)):\n",
    "    k = i + 1\n",
    "    while(k < len(p)):\n",
    "      if(p[i] > p[k]):\n",
    "        count+=1\n",
    "      k+=1\n",
    "    i+=1\n",
    "  if(count == 0):\n",
    "    return True\n",
    "  if(count % 2 == 0):\n",
    "    return True\n",
    "  else:\n",
    "    return False\n"
   ]
  },
  {
   "cell_type": "code",
   "execution_count": 61,
   "id": "e3830ff9",
   "metadata": {},
   "outputs": [],
   "source": [
    "def comprobacion(x,i,j,k):\n",
    "    e=1\n",
    "    p=np.array([i,j,k])\n",
    "    if is_even(p)==True:\n",
    "        e=1\n",
    "    if is_even(p)==False:\n",
    "        e=-1\n",
    "    if i==j or j==k or k==i:\n",
    "        e=0\n",
    "    r=2j*e*x\n",
    "    return r"
   ]
  },
  {
   "cell_type": "code",
   "execution_count": 62,
   "id": "9e944270",
   "metadata": {},
   "outputs": [
    {
     "data": {
      "text/plain": [
       "(array([[0.+2.j, 0.+0.j],\n",
       "        [0.+0.j, 0.-2.j]]),\n",
       " array([[0.+0.j, 0.+2.j],\n",
       "        [0.+2.j, 0.+0.j]]),\n",
       " array([[ 0,  2],\n",
       "        [-2,  0]]))"
      ]
     },
     "execution_count": 62,
     "metadata": {},
     "output_type": "execute_result"
    }
   ],
   "source": [
    "conmutador(x,y),conmutador(y,z),conmutador(z,x)\n"
   ]
  },
  {
   "cell_type": "code",
   "execution_count": 63,
   "id": "b22806ec",
   "metadata": {},
   "outputs": [
    {
     "data": {
      "text/plain": [
       "(array([[ 0.+2.j,  0.+0.j],\n",
       "        [ 0.+0.j, -0.-2.j]]),\n",
       " array([[0.+0.j, 0.+2.j],\n",
       "        [0.+2.j, 0.+0.j]]),\n",
       " array([[ 0.+0.j,  2.-0.j],\n",
       "        [-2.+0.j,  0.+0.j]]))"
      ]
     },
     "execution_count": 63,
     "metadata": {},
     "output_type": "execute_result"
    }
   ],
   "source": [
    "comprobacion(z,1,2,3), comprobacion(x,2,3,1), comprobacion(y,3,1,2)\n"
   ]
  },
  {
   "cell_type": "code",
   "execution_count": 64,
   "id": "e7a14f5a",
   "metadata": {},
   "outputs": [
    {
     "data": {
      "text/plain": [
       "array([[0, 0],\n",
       "       [0, 0]])"
      ]
     },
     "execution_count": 64,
     "metadata": {},
     "output_type": "execute_result"
    }
   ],
   "source": [
    "conmutador(x,x)"
   ]
  },
  {
   "cell_type": "code",
   "execution_count": 66,
   "id": "5351a96b",
   "metadata": {},
   "outputs": [
    {
     "data": {
      "text/plain": [
       "array([[ 0.+0.j,  0.+0.j],\n",
       "       [ 0.+0.j, -0.+0.j]])"
      ]
     },
     "execution_count": 66,
     "metadata": {},
     "output_type": "execute_result"
    }
   ],
   "source": [
    "comprobacion(z,1,1,3)"
   ]
  },
  {
   "cell_type": "code",
   "execution_count": null,
   "id": "f21b3303",
   "metadata": {},
   "outputs": [],
   "source": []
  }
 ],
 "metadata": {
  "kernelspec": {
   "display_name": "Python 3 (ipykernel)",
   "language": "python",
   "name": "python3"
  },
  "language_info": {
   "codemirror_mode": {
    "name": "ipython",
    "version": 3
   },
   "file_extension": ".py",
   "mimetype": "text/x-python",
   "name": "python",
   "nbconvert_exporter": "python",
   "pygments_lexer": "ipython3",
   "version": "3.9.13"
  }
 },
 "nbformat": 4,
 "nbformat_minor": 5
}

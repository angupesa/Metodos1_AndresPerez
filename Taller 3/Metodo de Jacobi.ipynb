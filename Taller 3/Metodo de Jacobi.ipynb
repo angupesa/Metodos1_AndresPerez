{
 "cells": [
  {
   "cell_type": "code",
   "execution_count": 1,
   "id": "ad5e5c05",
   "metadata": {},
   "outputs": [],
   "source": [
    "import numpy as np"
   ]
  },
  {
   "cell_type": "code",
   "execution_count": 16,
   "id": "262186f9",
   "metadata": {},
   "outputs": [
    {
     "data": {
      "text/plain": [
       "array([4., 3., 5.])"
      ]
     },
     "execution_count": 16,
     "metadata": {},
     "output_type": "execute_result"
    }
   ],
   "source": [
    "A=np.array([[4,1,1],[1,3,2],[1,2,5]])\n",
    "A\n",
    "def rot (A, m=100,tol=1e-10):\n",
    "    theta=0\n",
    "    R=np.array([[np.cos(theta),-np.sin(theta),0],[np.sin(theta),np.cos(theta),0],[0,0,1]])\n",
    "    Rt=np.linalg.inv(R)\n",
    "    D=np.zeros_like(Rt@A@R)\n",
    "    k=0\n",
    "    l=0\n",
    "    maxvalue=0\n",
    "    for i in range(m):\n",
    "        for p in range(3):\n",
    "            for q in range(p+1,3):\n",
    "                if abs(A[p,q]) > maxvalue:\n",
    "                    maxvalue = abs(A[p,q])\n",
    "                    k = p\n",
    "                    l = q\n",
    "        if A[k,k] == A[l,l]:\n",
    "            theta = np.pi / 4\n",
    "        \n",
    "        else:\n",
    "            t = (-2 * A[k,l]) / (A[k,k] - A[l,l])\n",
    "            theta = np.arctan(t)*(1/2)\n",
    "     \n",
    "        D = np.dot(np.dot(R.T, A), R)\n",
    "        off_diag = np.sum(np.abs(D - np.diag(np.diag(D))))\n",
    "        if off_diag < tol:\n",
    "            break\n",
    "\n",
    "    return np.diag(D)\n",
    "rot(A)"
   ]
  },
  {
   "cell_type": "code",
   "execution_count": 3,
   "id": "e51ecf26",
   "metadata": {},
   "outputs": [
    {
     "data": {
      "text/plain": [
       "(array([6.89510652, 3.39729507, 1.70759841]),\n",
       " array([[ 0.43170413,  0.88573564,  0.17059871],\n",
       "        [ 0.49725362, -0.07589338, -0.86427949],\n",
       "        [ 0.75257583, -0.45794385,  0.47319874]]))"
      ]
     },
     "execution_count": 3,
     "metadata": {},
     "output_type": "execute_result"
    }
   ],
   "source": [
    "np.linalg.eig(A)"
   ]
  }
 ],
 "metadata": {
  "kernelspec": {
   "display_name": "Python 3 (ipykernel)",
   "language": "python",
   "name": "python3"
  },
  "language_info": {
   "codemirror_mode": {
    "name": "ipython",
    "version": 3
   },
   "file_extension": ".py",
   "mimetype": "text/x-python",
   "name": "python",
   "nbconvert_exporter": "python",
   "pygments_lexer": "ipython3",
   "version": "3.9.13"
  }
 },
 "nbformat": 4,
 "nbformat_minor": 5
}

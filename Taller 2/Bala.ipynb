{
 "cells": [
  {
   "cell_type": "code",
   "execution_count": 7,
   "id": "3a6ff0ed",
   "metadata": {},
   "outputs": [],
   "source": [
    "import numpy as np\n",
    "import matplotlib.pyplot as plt\n",
    "from matplotlib import rc\n",
    "import pandas as pd\n",
    "import sympy as sym\n",
    "from sympy import var, solve"
   ]
  },
  {
   "cell_type": "code",
   "execution_count": 14,
   "id": "530d6583",
   "metadata": {},
   "outputs": [
    {
     "name": "stdout",
     "output_type": "stream",
     "text": [
      "la velocidad inicial(m/s) es:23.0387959072778y el angulo (grados):20\n"
     ]
    }
   ],
   "source": [
    "X = [1.4,3.5,5.6]\n",
    "Y = [0.4007954931819738,0.594128102489774,0.29802795523938164]\n",
    "\n",
    "def Lagrange(x,xi,j):\n",
    "    \n",
    "    prod = 1.0\n",
    "    n = len(xi)\n",
    "    \n",
    "    for i in range(n):\n",
    "        if i != j:\n",
    "            prod *= (x - xi[i])/(xi[j]-xi[i])\n",
    "            \n",
    "    return prod\n",
    "\n",
    "def Interpolate(x,xi,yi):\n",
    "    \n",
    "    Sum = 0.\n",
    "    n = len(xi)\n",
    "    \n",
    "    for j in range(n):\n",
    "        Sum += yi[j]*Lagrange(x,xi,j)\n",
    "        \n",
    "    return Sum\n",
    "\n",
    "x_sym = sym.Symbol(\"x\")\n",
    "\n",
    "y_x = Interpolate(x_sym,X,Y) \n",
    "dy=sym.diff(y_x, x_sym) \n",
    "dy2=sym.diff(y_x, x_sym, 2) \n",
    "\n",
    "\n",
    "\n",
    "dy_numpy=sym.lambdify([x_sym],dy,'numpy')\n",
    "valor_dy_unopc=dy_numpy(1.4)\n",
    "\n",
    "\n",
    "theta,vel_cero_cuad=var('x V')\n",
    "\n",
    "eq1= sym.tan(theta)+(dy2*1.4)-valor_dy_unopc\n",
    "respuestatheta= solve([eq1],[theta])\n",
    "ang=respuestatheta.get(x)*(180/np.pi)\n",
    "eq2= -9.81/((vel_cero_cuad**2)*(sym.cos(ang)**2))-dy2\n",
    "vel= solve([eq2],[vel_cero_cuad])\n",
    "V_0=respuestavel[1][0]\n",
    "print(\"la velocidad inicial(m/s) es:\"+str(V_0)+ \"y el angulo (grados):\"+str(round(ang)))"
   ]
  },
  {
   "cell_type": "code",
   "execution_count": null,
   "id": "d0fd00ab",
   "metadata": {},
   "outputs": [],
   "source": []
  }
 ],
 "metadata": {
  "kernelspec": {
   "display_name": "Python 3 (ipykernel)",
   "language": "python",
   "name": "python3"
  },
  "language_info": {
   "codemirror_mode": {
    "name": "ipython",
    "version": 3
   },
   "file_extension": ".py",
   "mimetype": "text/x-python",
   "name": "python",
   "nbconvert_exporter": "python",
   "pygments_lexer": "ipython3",
   "version": "3.9.13"
  }
 },
 "nbformat": 4,
 "nbformat_minor": 5
}

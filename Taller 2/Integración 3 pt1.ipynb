{
 "cells": [
  {
   "cell_type": "code",
   "execution_count": 1,
   "metadata": {},
   "outputs": [],
   "source": [
    "import sympy as sym"
   ]
  },
  {
   "cell_type": "code",
   "execution_count": 2,
   "metadata": {},
   "outputs": [],
   "source": [
    "x=sym.Symbol('x')\n",
    "a=sym.Symbol('a')\n",
    "b=sym.Symbol('b')\n",
    "xm=sym.Symbol('xm')\n",
    "f=sym.Function('f')"
   ]
  },
  {
   "cell_type": "code",
   "execution_count": 3,
   "metadata": {},
   "outputs": [
    {
     "data": {
      "text/latex": [
       "$\\displaystyle \\frac{\\left(- a + x\\right) \\left(- b + x\\right) f{\\left(xm \\right)}}{\\left(- a + xm\\right) \\left(- b + xm\\right)} + \\frac{\\left(- b + x\\right) \\left(x - xm\\right) f{\\left(a \\right)}}{\\left(a - b\\right) \\left(a - xm\\right)} + \\frac{\\left(- a + x\\right) \\left(x - xm\\right) f{\\left(b \\right)}}{\\left(- a + b\\right) \\left(b - xm\\right)}$"
      ],
      "text/plain": [
       "(-a + x)*(-b + x)*f(xm)/((-a + xm)*(-b + xm)) + (-b + x)*(x - xm)*f(a)/((a - b)*(a - xm)) + (-a + x)*(x - xm)*f(b)/((-a + b)*(b - xm))"
      ]
     },
     "execution_count": 3,
     "metadata": {},
     "output_type": "execute_result"
    }
   ],
   "source": [
    "p=(x-b)*(x-xm)/((a-b)*(a-xm))*f(a)+(x-a)*(x-b)/((xm-a)*(xm-b))*f(xm)+(x-a)*(x-xm)/((b-a)*(b-xm))*f(b)\n",
    "p"
   ]
  },
  {
   "cell_type": "code",
   "execution_count": 4,
   "metadata": {},
   "outputs": [
    {
     "data": {
      "text/latex": [
       "$\\displaystyle \\frac{\\left(- a + x\\right) \\left(- b + x\\right) f{\\left(\\frac{a}{2} + \\frac{b}{2} \\right)}}{\\left(- \\frac{a}{2} + \\frac{b}{2}\\right) \\left(\\frac{a}{2} - \\frac{b}{2}\\right)} + \\frac{\\left(- b + x\\right) \\left(- \\frac{a}{2} - \\frac{b}{2} + x\\right) f{\\left(a \\right)}}{\\left(\\frac{a}{2} - \\frac{b}{2}\\right) \\left(a - b\\right)} + \\frac{\\left(- a + x\\right) \\left(- \\frac{a}{2} - \\frac{b}{2} + x\\right) f{\\left(b \\right)}}{\\left(- a + b\\right) \\left(- \\frac{a}{2} + \\frac{b}{2}\\right)}$"
      ],
      "text/plain": [
       "(-a + x)*(-b + x)*f(a/2 + b/2)/((-a/2 + b/2)*(a/2 - b/2)) + (-b + x)*(-a/2 - b/2 + x)*f(a)/((a/2 - b/2)*(a - b)) + (-a + x)*(-a/2 - b/2 + x)*f(b)/((-a + b)*(-a/2 + b/2))"
      ]
     },
     "execution_count": 4,
     "metadata": {},
     "output_type": "execute_result"
    }
   ],
   "source": [
    "p=p.subs(xm,(a+b)/2)\n",
    "p"
   ]
  },
  {
   "cell_type": "code",
   "execution_count": 5,
   "metadata": {},
   "outputs": [
    {
     "data": {
      "text/latex": [
       "$\\displaystyle \\frac{a^{2} f{\\left(b \\right)}}{2 \\left(\\frac{a^{2}}{2} - a b + \\frac{b^{2}}{2}\\right)} + \\frac{a b f{\\left(a \\right)}}{2 \\left(\\frac{a^{2}}{2} - a b + \\frac{b^{2}}{2}\\right)} + \\frac{a b f{\\left(b \\right)}}{2 \\left(\\frac{a^{2}}{2} - a b + \\frac{b^{2}}{2}\\right)} + \\frac{a b f{\\left(\\frac{a}{2} + \\frac{b}{2} \\right)}}{- \\frac{a^{2}}{4} + \\frac{a b}{2} - \\frac{b^{2}}{4}} - \\frac{a x f{\\left(a \\right)}}{2 \\left(\\frac{a^{2}}{2} - a b + \\frac{b^{2}}{2}\\right)} - \\frac{3 a x f{\\left(b \\right)}}{2 \\left(\\frac{a^{2}}{2} - a b + \\frac{b^{2}}{2}\\right)} - \\frac{a x f{\\left(\\frac{a}{2} + \\frac{b}{2} \\right)}}{- \\frac{a^{2}}{4} + \\frac{a b}{2} - \\frac{b^{2}}{4}} + \\frac{b^{2} f{\\left(a \\right)}}{2 \\left(\\frac{a^{2}}{2} - a b + \\frac{b^{2}}{2}\\right)} - \\frac{3 b x f{\\left(a \\right)}}{2 \\left(\\frac{a^{2}}{2} - a b + \\frac{b^{2}}{2}\\right)} - \\frac{b x f{\\left(b \\right)}}{2 \\left(\\frac{a^{2}}{2} - a b + \\frac{b^{2}}{2}\\right)} - \\frac{b x f{\\left(\\frac{a}{2} + \\frac{b}{2} \\right)}}{- \\frac{a^{2}}{4} + \\frac{a b}{2} - \\frac{b^{2}}{4}} + \\frac{x^{2} f{\\left(a \\right)}}{\\frac{a^{2}}{2} - a b + \\frac{b^{2}}{2}} + \\frac{x^{2} f{\\left(b \\right)}}{\\frac{a^{2}}{2} - a b + \\frac{b^{2}}{2}} + \\frac{x^{2} f{\\left(\\frac{a}{2} + \\frac{b}{2} \\right)}}{- \\frac{a^{2}}{4} + \\frac{a b}{2} - \\frac{b^{2}}{4}}$"
      ],
      "text/plain": [
       "a**2*f(b)/(2*(a**2/2 - a*b + b**2/2)) + a*b*f(a)/(2*(a**2/2 - a*b + b**2/2)) + a*b*f(b)/(2*(a**2/2 - a*b + b**2/2)) + a*b*f(a/2 + b/2)/(-a**2/4 + a*b/2 - b**2/4) - a*x*f(a)/(2*(a**2/2 - a*b + b**2/2)) - 3*a*x*f(b)/(2*(a**2/2 - a*b + b**2/2)) - a*x*f(a/2 + b/2)/(-a**2/4 + a*b/2 - b**2/4) + b**2*f(a)/(2*(a**2/2 - a*b + b**2/2)) - 3*b*x*f(a)/(2*(a**2/2 - a*b + b**2/2)) - b*x*f(b)/(2*(a**2/2 - a*b + b**2/2)) - b*x*f(a/2 + b/2)/(-a**2/4 + a*b/2 - b**2/4) + x**2*f(a)/(a**2/2 - a*b + b**2/2) + x**2*f(b)/(a**2/2 - a*b + b**2/2) + x**2*f(a/2 + b/2)/(-a**2/4 + a*b/2 - b**2/4)"
      ]
     },
     "execution_count": 5,
     "metadata": {},
     "output_type": "execute_result"
    }
   ],
   "source": [
    "p=sym.expand(p)\n",
    "p"
   ]
  },
  {
   "cell_type": "code",
   "execution_count": 6,
   "metadata": {},
   "outputs": [
    {
     "data": {
      "text/latex": [
       "$\\displaystyle \\frac{a^{2} f{\\left(b \\right)} + a b f{\\left(a \\right)} + a b f{\\left(b \\right)} - 4 a b f{\\left(\\frac{a}{2} + \\frac{b}{2} \\right)} - a x f{\\left(a \\right)} - 3 a x f{\\left(b \\right)} + 4 a x f{\\left(\\frac{a}{2} + \\frac{b}{2} \\right)} + b^{2} f{\\left(a \\right)} - 3 b x f{\\left(a \\right)} - b x f{\\left(b \\right)} + 4 b x f{\\left(\\frac{a}{2} + \\frac{b}{2} \\right)} + 2 x^{2} f{\\left(a \\right)} + 2 x^{2} f{\\left(b \\right)} - 4 x^{2} f{\\left(\\frac{a}{2} + \\frac{b}{2} \\right)}}{a^{2} - 2 a b + b^{2}}$"
      ],
      "text/plain": [
       "(a**2*f(b) + a*b*f(a) + a*b*f(b) - 4*a*b*f(a/2 + b/2) - a*x*f(a) - 3*a*x*f(b) + 4*a*x*f(a/2 + b/2) + b**2*f(a) - 3*b*x*f(a) - b*x*f(b) + 4*b*x*f(a/2 + b/2) + 2*x**2*f(a) + 2*x**2*f(b) - 4*x**2*f(a/2 + b/2))/(a**2 - 2*a*b + b**2)"
      ]
     },
     "execution_count": 6,
     "metadata": {},
     "output_type": "execute_result"
    }
   ],
   "source": [
    "p=sym.simplify(p)\n",
    "p"
   ]
  },
  {
   "cell_type": "code",
   "execution_count": 7,
   "metadata": {},
   "outputs": [
    {
     "data": {
      "text/latex": [
       "$\\displaystyle - \\frac{a^{3} \\left(2 f{\\left(a \\right)} + 2 f{\\left(b \\right)} - 4 f{\\left(\\frac{a}{2} + \\frac{b}{2} \\right)}\\right)}{3 a^{2} - 6 a b + 3 b^{2}} + \\frac{a^{2} \\left(a f{\\left(a \\right)} + 3 a f{\\left(b \\right)} - 4 a f{\\left(\\frac{a}{2} + \\frac{b}{2} \\right)} + 3 b f{\\left(a \\right)} + b f{\\left(b \\right)} - 4 b f{\\left(\\frac{a}{2} + \\frac{b}{2} \\right)}\\right)}{2 a^{2} - 4 a b + 2 b^{2}} - \\frac{a \\left(a^{2} f{\\left(b \\right)} + a b f{\\left(a \\right)} + a b f{\\left(b \\right)} - 4 a b f{\\left(\\frac{a}{2} + \\frac{b}{2} \\right)} + b^{2} f{\\left(a \\right)}\\right)}{a^{2} - 2 a b + b^{2}} + \\frac{b^{3} \\left(2 f{\\left(a \\right)} + 2 f{\\left(b \\right)} - 4 f{\\left(\\frac{a}{2} + \\frac{b}{2} \\right)}\\right)}{3 a^{2} - 6 a b + 3 b^{2}} - \\frac{b^{2} \\left(a f{\\left(a \\right)} + 3 a f{\\left(b \\right)} - 4 a f{\\left(\\frac{a}{2} + \\frac{b}{2} \\right)} + 3 b f{\\left(a \\right)} + b f{\\left(b \\right)} - 4 b f{\\left(\\frac{a}{2} + \\frac{b}{2} \\right)}\\right)}{2 a^{2} - 4 a b + 2 b^{2}} + \\frac{b \\left(a^{2} f{\\left(b \\right)} + a b f{\\left(a \\right)} + a b f{\\left(b \\right)} - 4 a b f{\\left(\\frac{a}{2} + \\frac{b}{2} \\right)} + b^{2} f{\\left(a \\right)}\\right)}{a^{2} - 2 a b + b^{2}}$"
      ],
      "text/plain": [
       "-a**3*(2*f(a) + 2*f(b) - 4*f(a/2 + b/2))/(3*a**2 - 6*a*b + 3*b**2) + a**2*(a*f(a) + 3*a*f(b) - 4*a*f(a/2 + b/2) + 3*b*f(a) + b*f(b) - 4*b*f(a/2 + b/2))/(2*a**2 - 4*a*b + 2*b**2) - a*(a**2*f(b) + a*b*f(a) + a*b*f(b) - 4*a*b*f(a/2 + b/2) + b**2*f(a))/(a**2 - 2*a*b + b**2) + b**3*(2*f(a) + 2*f(b) - 4*f(a/2 + b/2))/(3*a**2 - 6*a*b + 3*b**2) - b**2*(a*f(a) + 3*a*f(b) - 4*a*f(a/2 + b/2) + 3*b*f(a) + b*f(b) - 4*b*f(a/2 + b/2))/(2*a**2 - 4*a*b + 2*b**2) + b*(a**2*f(b) + a*b*f(a) + a*b*f(b) - 4*a*b*f(a/2 + b/2) + b**2*f(a))/(a**2 - 2*a*b + b**2)"
      ]
     },
     "execution_count": 7,
     "metadata": {},
     "output_type": "execute_result"
    }
   ],
   "source": [
    "p=sym.integrate(p,(x,a,b))\n",
    "p"
   ]
  },
  {
   "cell_type": "code",
   "execution_count": 8,
   "metadata": {},
   "outputs": [
    {
     "data": {
      "text/latex": [
       "$\\displaystyle - \\frac{a f{\\left(a \\right)}}{6} - \\frac{a f{\\left(b \\right)}}{6} - \\frac{2 a f{\\left(\\frac{a}{2} + \\frac{b}{2} \\right)}}{3} + \\frac{b f{\\left(a \\right)}}{6} + \\frac{b f{\\left(b \\right)}}{6} + \\frac{2 b f{\\left(\\frac{a}{2} + \\frac{b}{2} \\right)}}{3}$"
      ],
      "text/plain": [
       "-a*f(a)/6 - a*f(b)/6 - 2*a*f(a/2 + b/2)/3 + b*f(a)/6 + b*f(b)/6 + 2*b*f(a/2 + b/2)/3"
      ]
     },
     "execution_count": 8,
     "metadata": {},
     "output_type": "execute_result"
    }
   ],
   "source": [
    "p=sym.simplify(p)\n",
    "p"
   ]
  }
 ],
 "metadata": {
  "kernelspec": {
   "display_name": "Python 3",
   "language": "python",
   "name": "python3"
  },
  "language_info": {
   "codemirror_mode": {
    "name": "ipython",
    "version": 3
   },
   "file_extension": ".py",
   "mimetype": "text/x-python",
   "name": "python",
   "nbconvert_exporter": "python",
   "pygments_lexer": "ipython3",
   "version": "3.7.6"
  }
 },
 "nbformat": 4,
 "nbformat_minor": 4
}

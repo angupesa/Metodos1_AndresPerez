{
 "cells": [
  {
   "cell_type": "code",
   "execution_count": 531,
   "metadata": {},
   "outputs": [],
   "source": [
    "import numpy as np\n",
    "import matplotlib.pyplot as plt"
   ]
  },
  {
   "cell_type": "code",
   "execution_count": 532,
   "metadata": {},
   "outputs": [],
   "source": [
    "R=1\n",
    "n=150\n",
    "x=np.linspace(-1,1,n+1)\n",
    "y=np.linspace(-1,1,n+1)\n",
    "X,Y=np.meshgrid(x,y)"
   ]
  },
  {
   "cell_type": "code",
   "execution_count": 533,
   "metadata": {},
   "outputs": [],
   "source": [
    "def f(x,y):\n",
    "    if x**2+y**2<1.0:\n",
    "        return np.sqrt(1.0-(x**2)-(y**2))\n",
    "    else:\n",
    "        return 0"
   ]
  },
  {
   "cell_type": "code",
   "execution_count": 534,
   "metadata": {},
   "outputs": [],
   "source": [
    "A=(x[1]-x[0])*(y[1]-y[0])"
   ]
  },
  {
   "cell_type": "code",
   "execution_count": 535,
   "metadata": {},
   "outputs": [
    {
     "name": "stdout",
     "output_type": "stream",
     "text": [
      "2.0941408226591514\n"
     ]
    }
   ],
   "source": [
    "nl=[]\n",
    "for i in range(n):\n",
    "    for j in range(n):\n",
    "        prom=(f(x[i],y[j])+f(x[i+1],y[j])+f(x[i],y[j+1])+f(x[i+1],y[j+1]))/4\n",
    "        dv=prom*A\n",
    "        nl.append(dv)\n",
    "print(sum(nl))"
   ]
  }
 ],
 "metadata": {
  "kernelspec": {
   "display_name": "Python 3",
   "language": "python",
   "name": "python3"
  },
  "language_info": {
   "codemirror_mode": {
    "name": "ipython",
    "version": 3
   },
   "file_extension": ".py",
   "mimetype": "text/x-python",
   "name": "python",
   "nbconvert_exporter": "python",
   "pygments_lexer": "ipython3",
   "version": "3.7.6"
  }
 },
 "nbformat": 4,
 "nbformat_minor": 4
}

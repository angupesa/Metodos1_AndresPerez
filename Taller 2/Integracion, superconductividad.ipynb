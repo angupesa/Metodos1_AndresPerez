{
 "cells": [
  {
   "cell_type": "code",
   "execution_count": 20,
   "id": "c10145fc",
   "metadata": {},
   "outputs": [],
   "source": [
    "import numpy as np\n",
    "import sympy as sym\n",
    "from scipy import integrate\n",
    "\n"
   ]
  },
  {
   "cell_type": "code",
   "execution_count": 36,
   "id": "9653dbeb",
   "metadata": {},
   "outputs": [],
   "source": [
    "k=1.38*10**(-23)\n",
    "h_wD=k*300\n",
    "Td=300\n",
    "def f (x,dt,T):\n",
    " dT=dt*h_wD\n",
    " s=np.sqrt(x**2+dT**2)\n",
    " h=0.5*np.tanh(s*Td/(2*T))/s\n",
    " return h"
   ]
  },
  {
   "cell_type": "code",
   "execution_count": 48,
   "id": "ba6d5868",
   "metadata": {},
   "outputs": [
    {
     "name": "stderr",
     "output_type": "stream",
     "text": [
      "C:\\Users\\User\\AppData\\Local\\Temp\\ipykernel_12488\\1155790649.py:7: RuntimeWarning: divide by zero encountered in true_divide\n",
      "  h=0.5*np.tanh(s*Td/(2*T))/s\n"
     ]
    },
    {
     "data": {
      "text/plain": [
       "12.133213321332134"
      ]
     },
     "execution_count": 48,
     "metadata": {},
     "output_type": "execute_result"
    }
   ],
   "source": [
    "X,W=np.polynomial.legendre.leggauss(50)\n",
    "T= np.linspace(0,20,10000)\n",
    "dt=0.0001\n",
    "a=1\n",
    "for t in T:\n",
    "    r=np.sum(f(X,dt,t)*W)\n",
    "    if r>(1/0.3):\n",
    "         a=t\n",
    "a"
   ]
  },
  {
   "cell_type": "code",
   "execution_count": null,
   "id": "65d9430d",
   "metadata": {},
   "outputs": [],
   "source": []
  }
 ],
 "metadata": {
  "kernelspec": {
   "display_name": "Python 3 (ipykernel)",
   "language": "python",
   "name": "python3"
  },
  "language_info": {
   "codemirror_mode": {
    "name": "ipython",
    "version": 3
   },
   "file_extension": ".py",
   "mimetype": "text/x-python",
   "name": "python",
   "nbconvert_exporter": "python",
   "pygments_lexer": "ipython3",
   "version": "3.9.13"
  }
 },
 "nbformat": 4,
 "nbformat_minor": 5
}

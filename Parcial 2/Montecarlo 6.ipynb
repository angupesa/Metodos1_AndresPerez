{
  "nbformat": 4,
  "nbformat_minor": 0,
  "metadata": {
    "colab": {
      "provenance": []
    },
    "kernelspec": {
      "name": "python3",
      "display_name": "Python 3"
    },
    "language_info": {
      "name": "python"
    }
  },
  "cells": [
    {
      "cell_type": "code",
      "execution_count": 1,
      "metadata": {
        "id": "B_pwL2uKcOVV"
      },
      "outputs": [],
      "source": [
        "import numpy as np\n",
        "import matplotlib.pyplot as plt\n",
        "from matplotlib import rc\n",
        "from tqdm import tqdm"
      ]
    },
    {
      "cell_type": "code",
      "source": [
        "def CreateSphere(N,R=1):\n",
        "    \n",
        "    Points = np.zeros((N,3))\n",
        "        \n",
        "    for i in tqdm(range(N)):\n",
        "        \n",
        "        phi = np.random.uniform(0,2*np.pi)\n",
        "        u = np.random.rand()\n",
        "        r = R*u**(1/3)\n",
        "        costheta = np.random.uniform(-1,1)\n",
        "        theta = np.arccos(costheta)\n",
        "        \n",
        "        Points[i] = [r*np.cos(phi)*np.sin(theta),r*np.sin(phi)*np.sin(theta),r*np.cos(theta)]\n",
        "        \n",
        "    return Points"
      ],
      "metadata": {
        "id": "pt9kh9EJcn7o"
      },
      "execution_count": 45,
      "outputs": []
    },
    {
      "cell_type": "code",
      "source": [
        "N=1000000\n",
        "Sphere = CreateSphere(N)"
      ],
      "metadata": {
        "colab": {
          "base_uri": "https://localhost:8080/"
        },
        "id": "j_KQzcXrdCP6",
        "outputId": "fe1c6bab-87df-44b2-9bfd-6e3cfe1871ac"
      },
      "execution_count": 77,
      "outputs": [
        {
          "output_type": "stream",
          "name": "stderr",
          "text": [
            "100%|██████████| 1000000/1000000 [00:16<00:00, 62314.54it/s]\n"
          ]
        }
      ]
    },
    {
      "cell_type": "code",
      "source": [
        "def momento_xx(Sphere,N):\n",
        "  I=0\n",
        "  for i in range(Sphere.shape[0]):\n",
        "    I+=1/N *((Sphere[i,1]**2)+(Sphere[i,2]**2))\n",
        "  return I"
      ],
      "metadata": {
        "id": "vhugstvndbLK"
      },
      "execution_count": 78,
      "outputs": []
    },
    {
      "cell_type": "code",
      "source": [
        "def momento_yy(Sphere,N):\n",
        "  I=0\n",
        "  for i in range(Sphere.shape[0]):\n",
        "    I+=1/N * ((Sphere[i,0]**2)+(Sphere[i,2]**2))\n",
        "  return I"
      ],
      "metadata": {
        "id": "AS1tiWxCe6AN"
      },
      "execution_count": 79,
      "outputs": []
    },
    {
      "cell_type": "code",
      "source": [
        "def momento_zz(Sphere,N):\n",
        "  I=0\n",
        "  for i in range(Sphere.shape[0]):\n",
        "    I+=1/N * ((Sphere[i,0]**2)+(Sphere[i,1]**2))\n",
        "  return I"
      ],
      "metadata": {
        "id": "Op_5Hw05e6bt"
      },
      "execution_count": 80,
      "outputs": []
    },
    {
      "cell_type": "code",
      "source": [
        "def momento_xy(Sphere,N):\n",
        "  I=0\n",
        "  for i in range(Sphere.shape[0]):\n",
        "    I+=1/N * ((Sphere[i,0])*(Sphere[i,1]))\n",
        "  return I"
      ],
      "metadata": {
        "id": "M19TOpPrflw5"
      },
      "execution_count": 81,
      "outputs": []
    },
    {
      "cell_type": "code",
      "source": [
        "Ixx= momento_xx(Sphere,N)\n",
        "print(Ixx)"
      ],
      "metadata": {
        "colab": {
          "base_uri": "https://localhost:8080/"
        },
        "id": "iNvYRBNUeWaR",
        "outputId": "bdfdc281-a0c6-4dc5-8f11-11b17b4e93e1"
      },
      "execution_count": 82,
      "outputs": [
        {
          "output_type": "stream",
          "name": "stdout",
          "text": [
            "0.4001522018191975\n"
          ]
        }
      ]
    },
    {
      "cell_type": "code",
      "source": [
        "Iyy=momento_yy(Sphere,N)\n",
        "Iyy"
      ],
      "metadata": {
        "colab": {
          "base_uri": "https://localhost:8080/"
        },
        "id": "E0cGdE7_gA0x",
        "outputId": "5bd246af-3093-4740-f6b8-240c42a39bd1"
      },
      "execution_count": 83,
      "outputs": [
        {
          "output_type": "execute_result",
          "data": {
            "text/plain": [
              "0.40043775305774454"
            ]
          },
          "metadata": {},
          "execution_count": 83
        }
      ]
    },
    {
      "cell_type": "code",
      "source": [
        "Izz=momento_zz(Sphere,N)\n",
        "Izz"
      ],
      "metadata": {
        "colab": {
          "base_uri": "https://localhost:8080/"
        },
        "id": "-1ZBgekdgJJQ",
        "outputId": "0198b0c2-ae73-4f10-ce9d-54858b693f26"
      },
      "execution_count": 84,
      "outputs": [
        {
          "output_type": "execute_result",
          "data": {
            "text/plain": [
              "0.4001667273554337"
            ]
          },
          "metadata": {},
          "execution_count": 84
        }
      ]
    },
    {
      "cell_type": "code",
      "source": [
        "Ixy=momento_xy(Sphere,N)\n",
        "Ixy"
      ],
      "metadata": {
        "colab": {
          "base_uri": "https://localhost:8080/"
        },
        "id": "VH3zPNr7gL9Y",
        "outputId": "4d4d9d99-e047-4b80-e9fa-27f1424951ae"
      },
      "execution_count": 85,
      "outputs": [
        {
          "output_type": "execute_result",
          "data": {
            "text/plain": [
              "1.6652580671984048e-06"
            ]
          },
          "metadata": {},
          "execution_count": 85
        }
      ]
    },
    {
      "cell_type": "markdown",
      "source": [
        "Los resultados del ejercicio nos indican que la esfera tiene una rotacion tridimencional simetrica pues las rotaciones por los ejes x,y y z tienden al mismo valor de momento de inercia, esto se corrobora ya que el momento de inercia $I_{xy}$ tiende a 0, lo que indica que no se preecenta ningun tipo de precesion o inclinacion en los ejes de rotacion de la esfera."
      ],
      "metadata": {
        "id": "T-V6BTW0i6i2"
      }
    }
  ]
}
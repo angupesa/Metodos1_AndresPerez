{
 "cells": [
  {
   "cell_type": "code",
   "execution_count": null,
   "metadata": {
    "id": "TXdhq9Bhidmg"
   },
   "outputs": [],
   "source": [
    "import numpy as np\n",
    "import matplotlib.pyplot as plt\n",
    "import urllib.request"
   ]
  },
  {
   "cell_type": "markdown",
   "metadata": {
    "id": "UZgARizUpE5o"
   },
   "source": [
    "Problemas 2.0.1:\n",
    "Escriba una funci´on que calcule el factorial de n, con n ∈ N\n",
    "$$ n!=n(n-1)(n-2)(n-3)...$$\n",
    "Calcule los primeros 20 n´umeros factoriales."
   ]
  },
  {
   "cell_type": "code",
   "execution_count": null,
   "metadata": {
    "colab": {
     "base_uri": "https://localhost:8080/"
    },
    "id": "Afh798Uri87g",
    "outputId": "64aec870-8269-4818-a394-c333ee399bf6"
   },
   "outputs": [
    {
     "name": "stdout",
     "output_type": "stream",
     "text": [
      "1\n",
      "1\n",
      "2\n",
      "6\n",
      "24\n",
      "120\n",
      "720\n",
      "5040\n",
      "40320\n",
      "362880\n",
      "3628800\n",
      "39916800\n",
      "479001600\n",
      "6227020800\n",
      "87178291200\n",
      "1307674368000\n",
      "20922789888000\n",
      "355687428096000\n",
      "6402373705728000\n",
      "121645100408832000\n"
     ]
    }
   ],
   "source": [
    "def factorial (n):\n",
    "  y=0\n",
    "  x=1\n",
    "  if n==0 or n==1:\n",
    "      y=1\n",
    "  else:\n",
    "    while n>1:\n",
    "        x*=n\n",
    "        n-=1\n",
    "        y=x     \n",
    "  return y\n",
    "for i in range(20):\n",
    "  print(factorial(i))\n",
    "        "
   ]
  },
  {
   "cell_type": "markdown",
   "metadata": {
    "id": "W4kNcmwspUq2"
   },
   "source": [
    "Escriba una funcion que calcule las variaciones sin repeticion de n elemenos tomados de\n",
    "r en r:\n",
    "$$ V_{r}^{n}=\\frac{n!}{(n-r)!}$$\n",
    "a) Calcule de cuantas maneras puedo ubicar 6 carros en 3 estacionamientos. Ans: 120\n"
   ]
  },
  {
   "cell_type": "code",
   "execution_count": null,
   "metadata": {
    "colab": {
     "base_uri": "https://localhost:8080/"
    },
    "id": "Q2Rd0c4noTjQ",
    "outputId": "7eefee11-7dd2-438f-ae69-ee28dff8cb97"
   },
   "outputs": [
    {
     "name": "stdout",
     "output_type": "stream",
     "text": [
      "120.0\n"
     ]
    }
   ],
   "source": [
    "def variacion (n,r):\n",
    "  return factorial(n)/factorial(n-r)\n",
    "print(variacion(6,3))"
   ]
  },
  {
   "cell_type": "markdown",
   "metadata": {
    "id": "9NoQfPQspk3A"
   },
   "source": [
    "Escriba una funcion que calcule las combinaciones sin repeticion de n elementos tomados\n",
    "de m en m, con n > m.\n",
    "$$ C_{m}^{n}=\\frac{n!}{m!(n-m)!}$$\n",
    "Calcule cuantos equipos de 11 jugadores puedo formar con 22 jugadores disponibles.\n",
    "Suponga que:\n",
    "\n",
    "\n",
    "a) Cualquiera puede ser el arquero. Ans: 705432\n",
    "\n",
    "\n",
    "b) Ya sabemos quien sera el arquero. Ans: 352716"
   ]
  },
  {
   "cell_type": "code",
   "execution_count": null,
   "metadata": {
    "colab": {
     "base_uri": "https://localhost:8080/"
    },
    "id": "Ho__m7Jtoxx7",
    "outputId": "80641077-1eda-4710-fb3d-208ce9af33f2"
   },
   "outputs": [
    {
     "name": "stdout",
     "output_type": "stream",
     "text": [
      "705432.0\n",
      "352716.0\n"
     ]
    }
   ],
   "source": [
    "def combinacion (n,m):\n",
    "  if m>0 and m<n:\n",
    "    C=variacion(n,m)/factorial(m)\n",
    "  return C\n",
    "print(combinacion(22,11))\n",
    "print(combinacion(21,10))"
   ]
  }
 ],
 "metadata": {
  "colab": {
   "provenance": []
  },
  "kernelspec": {
   "display_name": "Python 3 (ipykernel)",
   "language": "python",
   "name": "python3"
  },
  "language_info": {
   "codemirror_mode": {
    "name": "ipython",
    "version": 3
   },
   "file_extension": ".py",
   "mimetype": "text/x-python",
   "name": "python",
   "nbconvert_exporter": "python",
   "pygments_lexer": "ipython3",
   "version": "3.9.13"
  }
 },
 "nbformat": 4,
 "nbformat_minor": 1
}

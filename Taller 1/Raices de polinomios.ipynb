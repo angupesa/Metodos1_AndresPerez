{
 "cells": [
  {
   "cell_type": "code",
   "execution_count": 2,
   "metadata": {
    "id": "TXdhq9Bhidmg"
   },
   "outputs": [],
   "source": [
    "import numpy as np\n",
    "import matplotlib.pyplot as plt\n",
    "import urllib.request"
   ]
  },
  {
   "cell_type": "markdown",
   "metadata": {
    "id": "dEu3pgZ9o-HQ"
   },
   "source": [
    "Problemas raices de polinomios:\n",
    "3) Calcular todas las raices reales de:\n",
    "$$f(x)=3x^{5}+5x^4-x^3$$\n"
   ]
  },
  {
   "cell_type": "code",
   "execution_count": 3,
   "metadata": {
    "id": "GitdxVwgpZSg"
   },
   "outputs": [],
   "source": [
    "def funcion (x):\n",
    "  return (3*x**5)+(5*x**4)-x**3"
   ]
  },
  {
   "cell_type": "code",
   "execution_count": 4,
   "metadata": {
    "id": "vlfBcklKptNh"
   },
   "outputs": [],
   "source": [
    "def derivada(f,x,h=1e-4):\n",
    "  dev = (f(x+h)-f(x-h))/(2*h)\n",
    "  return dev"
   ]
  },
  {
   "cell_type": "code",
   "execution_count": 5,
   "metadata": {
    "id": "594dzCnmqLUm"
   },
   "outputs": [],
   "source": [
    "def NewtonRaphson(f,df,xn,itmax = 100, precision=1e-9):\n",
    "    \n",
    "    error = 1\n",
    "    it = 0\n",
    "    \n",
    "    while error > precision and it <= itmax:\n",
    "        \n",
    "        try:\n",
    "            \n",
    "            xn1 = xn - f(xn)/df(f,xn)\n",
    "            \n",
    "            error = np.abs(f(xn)/df(f,xn))\n",
    "            \n",
    "            #print(error)\n",
    "            \n",
    "        except ZeroDivisionError:\n",
    "            \n",
    "            print('Division por cero')\n",
    "            \n",
    "        it += 1\n",
    "        xn = xn1\n",
    "    \n",
    "    if it == itmax:\n",
    "        False\n",
    "    else:\n",
    "        return xn"
   ]
  },
  {
   "cell_type": "code",
   "execution_count": 6,
   "metadata": {
    "id": "iVnZFccXqzZA"
   },
   "outputs": [],
   "source": [
    "def Roots(x,tolerancia=4):\n",
    "    \n",
    "    Roots = np.array([])\n",
    "    \n",
    "    for i in x:\n",
    "        \n",
    "        root = NewtonRaphson(funcion,derivada,i)\n",
    "        \n",
    "        if root != False:\n",
    "            \n",
    "            croot = np.round(root,tolerancia)\n",
    "            if croot not in Roots:\n",
    "                Roots = np.append(Roots,croot)\n",
    "                \n",
    "    Roots.sort()\n",
    "        \n",
    "    return Roots"
   ]
  },
  {
   "cell_type": "code",
   "execution_count": 7,
   "metadata": {
    "id": "Wo4C77mIrRcD"
   },
   "outputs": [],
   "source": [
    "x = np.linspace(-2,2,10)\n",
    "raices = Roots(x)"
   ]
  },
  {
   "cell_type": "code",
   "execution_count": 8,
   "metadata": {
    "colab": {
     "base_uri": "https://localhost:8080/"
    },
    "id": "B3b4pNkerw-6",
    "outputId": "9b1d9c85-bd9f-4133-e57e-166f82fe2018"
   },
   "outputs": [
    {
     "data": {
      "text/plain": [
       "array([-1.8471, -0.    ,  0.1805])"
      ]
     },
     "execution_count": 8,
     "metadata": {},
     "output_type": "execute_result"
    }
   ],
   "source": [
    "raices"
   ]
  }
 ],
 "metadata": {
  "colab": {
   "provenance": []
  },
  "kernelspec": {
   "display_name": "Python 3 (ipykernel)",
   "language": "python",
   "name": "python3"
  },
  "language_info": {
   "codemirror_mode": {
    "name": "ipython",
    "version": 3
   },
   "file_extension": ".py",
   "mimetype": "text/x-python",
   "name": "python",
   "nbconvert_exporter": "python",
   "pygments_lexer": "ipython3",
   "version": "3.9.13"
  }
 },
 "nbformat": 4,
 "nbformat_minor": 1
}

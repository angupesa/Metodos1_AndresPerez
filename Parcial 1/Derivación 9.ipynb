{
 "cells": [
  {
   "cell_type": "code",
   "execution_count": 4,
   "metadata": {},
   "outputs": [],
   "source": [
    "import numpy as np\n",
    "import sympy as sym\n",
    "import matplotlib.pyplot as plt\n",
    "import pandas as pd\n",
    "import os.path as path\n",
    "import os\n",
    "import wget"
   ]
  },
  {
   "cell_type": "code",
   "execution_count": 6,
   "metadata": {},
   "outputs": [],
   "source": [
    "x = sym.Symbol('x',real=True)"
   ]
  },
  {
   "cell_type": "code",
   "execution_count": 7,
   "metadata": {},
   "outputs": [],
   "source": [
    "h = sym.Symbol('h',real=True)"
   ]
  },
  {
   "cell_type": "code",
   "execution_count": 8,
   "metadata": {},
   "outputs": [],
   "source": [
    "X=[-2*h,-1*h,0*h,1*h,2*h]"
   ]
  },
  {
   "cell_type": "code",
   "execution_count": 13,
   "metadata": {},
   "outputs": [],
   "source": [
    "def Lagrange(x,xi,j):\n",
    "    \n",
    "    prod = 1\n",
    "    n = len(xi)\n",
    "    \n",
    "    for i in range(n):\n",
    "        if i != j:\n",
    "            prod *= (x - xi[i])/(xi[j]-xi[i])\n",
    "    prod=sym.simplify(prod)        \n",
    "    return prod"
   ]
  },
  {
   "cell_type": "code",
   "execution_count": 25,
   "metadata": {},
   "outputs": [],
   "source": [
    "def GetCoefficients(x,X,p):\n",
    "    Coefficients=[]\n",
    "    for j in range(len(X)):\n",
    "        Lj=Lagrange(x,X,j)\n",
    "        dLj=sym.diff(Lj,x,1)\n",
    "        dLj=sym.simplify(dLj)\n",
    "        print(dLj)\n",
    "        Cj=dLj.subs(x,X[p])\n",
    "        Coefficients.append(Cj)\n",
    "    return Coefficients"
   ]
  },
  {
   "cell_type": "code",
   "execution_count": 26,
   "metadata": {},
   "outputs": [
    {
     "name": "stdout",
     "output_type": "stream",
     "text": [
      "(h**3 - h**2*x - 3*h*x**2 + 2*x**3)/(12*h**4)\n",
      "-(4*h**3 - 8*h**2*x - 3*h*x**2 + 4*x**3)/(6*h**4)\n",
      "-5*x/(2*h**2) + x**3/h**4\n",
      "(4*h**3 + 8*h**2*x - 3*h*x**2 - 4*x**3)/(6*h**4)\n",
      "(-h**3 - h**2*x + 3*h*x**2 + 2*x**3)/(12*h**4)\n",
      "(h**3 - h**2*x - 3*h*x**2 + 2*x**3)/(12*h**4)\n",
      "-(4*h**3 - 8*h**2*x - 3*h*x**2 + 4*x**3)/(6*h**4)\n",
      "-5*x/(2*h**2) + x**3/h**4\n",
      "(4*h**3 + 8*h**2*x - 3*h*x**2 - 4*x**3)/(6*h**4)\n",
      "(-h**3 - h**2*x + 3*h*x**2 + 2*x**3)/(12*h**4)\n",
      "[1/(12*h), -2/(3*h), 0, 2/(3*h), -1/(12*h)]\n"
     ]
    }
   ],
   "source": [
    "GetCoefficients(x,X,2)\n",
    "print(GetCoefficients(x,X,2))"
   ]
  },
  {
   "cell_type": "code",
   "execution_count": null,
   "metadata": {},
   "outputs": [],
   "source": []
  }
 ],
 "metadata": {
  "kernelspec": {
   "display_name": "Python 3",
   "language": "python",
   "name": "python3"
  },
  "language_info": {
   "codemirror_mode": {
    "name": "ipython",
    "version": 3
   },
   "file_extension": ".py",
   "mimetype": "text/x-python",
   "name": "python",
   "nbconvert_exporter": "python",
   "pygments_lexer": "ipython3",
   "version": "3.7.6"
  }
 },
 "nbformat": 4,
 "nbformat_minor": 4
}

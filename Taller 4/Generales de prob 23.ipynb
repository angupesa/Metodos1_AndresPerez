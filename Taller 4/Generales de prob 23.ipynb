{
 "cells": [
  {
   "cell_type": "code",
   "execution_count": 1,
   "id": "35f2894f",
   "metadata": {},
   "outputs": [],
   "source": [
    "import numpy as np\n",
    "import matplotlib.pyplot as plt\n",
    "from math import factorial"
   ]
  },
  {
   "cell_type": "code",
   "execution_count": 2,
   "id": "8ceddc3e",
   "metadata": {},
   "outputs": [],
   "source": [
    "def combi (x,k):\n",
    "    return factorial(k) / (factorial(x) * factorial(k - x))"
   ]
  },
  {
   "cell_type": "code",
   "execution_count": 3,
   "id": "7a10f571",
   "metadata": {},
   "outputs": [
    {
     "data": {
      "text/plain": [
       "126.0"
      ]
     },
     "execution_count": 3,
     "metadata": {},
     "output_type": "execute_result"
    }
   ],
   "source": [
    "combi(4,9)"
   ]
  },
  {
   "cell_type": "code",
   "execution_count": null,
   "id": "920aa445",
   "metadata": {},
   "outputs": [],
   "source": [
    "#En las notas dice que hay 12 formas, pero esto no es posible sin condicionar mas el sistema"
   ]
  }
 ],
 "metadata": {
  "kernelspec": {
   "display_name": "Python 3 (ipykernel)",
   "language": "python",
   "name": "python3"
  },
  "language_info": {
   "codemirror_mode": {
    "name": "ipython",
    "version": 3
   },
   "file_extension": ".py",
   "mimetype": "text/x-python",
   "name": "python",
   "nbconvert_exporter": "python",
   "pygments_lexer": "ipython3",
   "version": "3.9.13"
  }
 },
 "nbformat": 4,
 "nbformat_minor": 5
}

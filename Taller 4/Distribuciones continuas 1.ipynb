{
 "cells": [
  {
   "cell_type": "code",
   "execution_count": 74,
   "id": "de4f7d7d",
   "metadata": {},
   "outputs": [],
   "source": [
    "import numpy as np\n",
    "import sympy as sp\n",
    "from sympy import *\n",
    "from scipy.integrate import quad\n"
   ]
  },
  {
   "cell_type": "code",
   "execution_count": 65,
   "id": "aecf8412",
   "metadata": {},
   "outputs": [],
   "source": [
    "x=sp.Symbol(\"x\",real=True)\n",
    "y=sp.Symbol(\"y\",real=True)"
   ]
  },
  {
   "cell_type": "code",
   "execution_count": 66,
   "id": "3026e00e",
   "metadata": {},
   "outputs": [],
   "source": [
    "def function (x,y):\n",
    "    f=0\n",
    "    f=2/3*(x+2*y)  \n",
    "    return f"
   ]
  },
  {
   "cell_type": "code",
   "execution_count": 67,
   "id": "c41e54c1",
   "metadata": {},
   "outputs": [],
   "source": [
    "def g(x,y):\n",
    "    return integrate(function(x,y),(y,0,1))\n",
    "def h(x,y):\n",
    "    return integrate(function(x,y),(x,0,1))"
   ]
  },
  {
   "cell_type": "code",
   "execution_count": 68,
   "id": "284f9717",
   "metadata": {},
   "outputs": [
    {
     "data": {
      "text/plain": [
       "(0.666666666666667*x + 0.666666666666667,\n",
       " 1.33333333333333*y + 0.333333333333333)"
      ]
     },
     "execution_count": 68,
     "metadata": {},
     "output_type": "execute_result"
    }
   ],
   "source": [
    "g(x,y),h(x,y)"
   ]
  },
  {
   "cell_type": "code",
   "execution_count": 69,
   "id": "3295fd68",
   "metadata": {},
   "outputs": [],
   "source": [
    "def expected_g (x,y):\n",
    "    return integrate(x*g(x,y),(x,0,1))\n",
    "def expected_h (x,y):\n",
    "    return integrate(y*h(x,y),(y,0,1))"
   ]
  },
  {
   "cell_type": "code",
   "execution_count": 70,
   "id": "da31a960",
   "metadata": {},
   "outputs": [
    {
     "data": {
      "text/plain": [
       "(0.555555555555556, 0.611111111111111)"
      ]
     },
     "execution_count": 70,
     "metadata": {},
     "output_type": "execute_result"
    }
   ],
   "source": [
    "E_x=expected_g(x,y)\n",
    "E_y=expected_h(x,y)\n",
    "E_x,E_y"
   ]
  },
  {
   "cell_type": "code",
   "execution_count": 71,
   "id": "2f567359",
   "metadata": {},
   "outputs": [
    {
     "data": {
      "text/latex": [
       "$\\displaystyle -0.00617283950617281$"
      ],
      "text/plain": [
       "-0.00617283950617281"
      ]
     },
     "execution_count": 71,
     "metadata": {},
     "output_type": "execute_result"
    }
   ],
   "source": [
    "E_xy= integrate(integrate(x*y*function(x,y),(x,0,1)),(y,0,1))\n",
    "Cov_1=E_xy-(E_x*E_y)\n",
    "Cov_1"
   ]
  },
  {
   "cell_type": "code",
   "execution_count": 72,
   "id": "35a08200",
   "metadata": {},
   "outputs": [
    {
     "data": {
      "text/latex": [
       "$\\displaystyle -0.00617283950617284$"
      ],
      "text/plain": [
       "-0.00617283950617284"
      ]
     },
     "execution_count": 72,
     "metadata": {},
     "output_type": "execute_result"
    }
   ],
   "source": [
    "Cov_2= integrate(integrate((x-E_x)*(y-E_y)*function((x),(y)),(x,0,1)),(y,0,1))\n",
    "Cov_2"
   ]
  },
  {
   "cell_type": "markdown",
   "id": "22c6e127",
   "metadata": {},
   "source": [
    "Para que las variables sean independientes el producto de las funciones de probabilidad marginal debe ser la funcion de probabilidad conjunta"
   ]
  },
  {
   "cell_type": "code",
   "execution_count": 73,
   "id": "c3880be0",
   "metadata": {},
   "outputs": [
    {
     "data": {
      "text/latex": [
       "$\\displaystyle 0.888888888888889 x y + 0.222222222222222 x + 0.888888888888889 y + 0.222222222222222$"
      ],
      "text/plain": [
       "0.888888888888889*x*y + 0.222222222222222*x + 0.888888888888889*y + 0.222222222222222"
      ]
     },
     "execution_count": 73,
     "metadata": {},
     "output_type": "execute_result"
    }
   ],
   "source": [
    "c=g(x,y)*h(x,y) \n",
    "c.expand()"
   ]
  },
  {
   "cell_type": "markdown",
   "id": "1b555220",
   "metadata": {},
   "source": [
    "Como se observa la funcion obtenida a partir del producto de las funciones margnales no es la funcion de probabilidad conjunta, por lo que las variables no son independientes"
   ]
  }
 ],
 "metadata": {
  "kernelspec": {
   "display_name": "Python 3 (ipykernel)",
   "language": "python",
   "name": "python3"
  },
  "language_info": {
   "codemirror_mode": {
    "name": "ipython",
    "version": 3
   },
   "file_extension": ".py",
   "mimetype": "text/x-python",
   "name": "python",
   "nbconvert_exporter": "python",
   "pygments_lexer": "ipython3",
   "version": "3.9.13"
  }
 },
 "nbformat": 4,
 "nbformat_minor": 5
}

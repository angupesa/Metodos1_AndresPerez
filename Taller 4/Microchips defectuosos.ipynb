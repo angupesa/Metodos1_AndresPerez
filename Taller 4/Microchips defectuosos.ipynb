{
 "cells": [
  {
   "cell_type": "code",
   "execution_count": 1,
   "id": "96c325bd",
   "metadata": {},
   "outputs": [],
   "source": [
    "import numpy as np\n",
    "import matplotlib.pyplot as plt\n",
    "from math import factorial"
   ]
  },
  {
   "cell_type": "code",
   "execution_count": 5,
   "id": "9c0f4d19",
   "metadata": {},
   "outputs": [],
   "source": [
    "def combi (x,k):\n",
    "    return factorial(k) / (factorial(x) * factorial(k - x))\n"
   ]
  },
  {
   "cell_type": "code",
   "execution_count": 12,
   "id": "42856ccf",
   "metadata": {},
   "outputs": [],
   "source": [
    "def prob (x):\n",
    "    a= combi(2-x,7)\n",
    "    b= combi(x,3)\n",
    "    c= combi(2,10)\n",
    "    return (a*b)/c\n",
    "    "
   ]
  },
  {
   "cell_type": "code",
   "execution_count": 13,
   "id": "64600859",
   "metadata": {},
   "outputs": [
    {
     "data": {
      "text/plain": [
       "0.4666666666666667"
      ]
     },
     "execution_count": 13,
     "metadata": {},
     "output_type": "execute_result"
    }
   ],
   "source": [
    "prob(0)"
   ]
  },
  {
   "cell_type": "code",
   "execution_count": 14,
   "id": "9ee813de",
   "metadata": {},
   "outputs": [
    {
     "data": {
      "text/plain": [
       "0.4666666666666667"
      ]
     },
     "execution_count": 14,
     "metadata": {},
     "output_type": "execute_result"
    }
   ],
   "source": [
    "prob(1)"
   ]
  },
  {
   "cell_type": "code",
   "execution_count": 15,
   "id": "09c85bde",
   "metadata": {},
   "outputs": [
    {
     "data": {
      "text/plain": [
       "0.06666666666666667"
      ]
     },
     "execution_count": 15,
     "metadata": {},
     "output_type": "execute_result"
    }
   ],
   "source": [
    "prob(2)"
   ]
  },
  {
   "cell_type": "code",
   "execution_count": 17,
   "id": "7f29a181",
   "metadata": {},
   "outputs": [
    {
     "data": {
      "text/plain": [
       "0.6"
      ]
     },
     "execution_count": 17,
     "metadata": {},
     "output_type": "execute_result"
    }
   ],
   "source": [
    "E=prob(1)+(2*prob(2)) #El valor que depende de la probabilidad de 0 se cancela al multiplicarlo por 0\n",
    "E"
   ]
  }
 ],
 "metadata": {
  "kernelspec": {
   "display_name": "Python 3 (ipykernel)",
   "language": "python",
   "name": "python3"
  },
  "language_info": {
   "codemirror_mode": {
    "name": "ipython",
    "version": 3
   },
   "file_extension": ".py",
   "mimetype": "text/x-python",
   "name": "python",
   "nbconvert_exporter": "python",
   "pygments_lexer": "ipython3",
   "version": "3.9.13"
  }
 },
 "nbformat": 4,
 "nbformat_minor": 5
}

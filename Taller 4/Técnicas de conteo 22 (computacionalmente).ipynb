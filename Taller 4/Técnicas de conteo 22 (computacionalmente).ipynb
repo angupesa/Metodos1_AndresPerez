{
 "cells": [
  {
   "cell_type": "code",
   "execution_count": 1,
   "id": "45b72218",
   "metadata": {},
   "outputs": [],
   "source": [
    "N=11 #11 para que tambien pase por 10\n",
    "conteo=0\n",
    "act=0\n",
    "for i in range(N):\n",
    "    for j in range(N):\n",
    "        for k in range(N):\n",
    "            if i+j+k==10:\n",
    "                conteo+=1"
   ]
  },
  {
   "cell_type": "code",
   "execution_count": 2,
   "id": "cda64194",
   "metadata": {},
   "outputs": [
    {
     "name": "stdout",
     "output_type": "stream",
     "text": [
      "66\n"
     ]
    }
   ],
   "source": [
    "print(conteo)"
   ]
  }
 ],
 "metadata": {
  "kernelspec": {
   "display_name": "Python 3",
   "language": "python",
   "name": "python3"
  },
  "language_info": {
   "codemirror_mode": {
    "name": "ipython",
    "version": 3
   },
   "file_extension": ".py",
   "mimetype": "text/x-python",
   "name": "python",
   "nbconvert_exporter": "python",
   "pygments_lexer": "ipython3",
   "version": "3.8.8"
  }
 },
 "nbformat": 4,
 "nbformat_minor": 5
}
